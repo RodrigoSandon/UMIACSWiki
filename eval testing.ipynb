{
 "cells": [
  {
   "cell_type": "markdown",
   "metadata": {},
   "source": [
    "to store secrets locally because I don't know how else"
   ]
  },
  {
   "cell_type": "code",
   "execution_count": 1,
   "metadata": {},
   "outputs": [],
   "source": [
    "%load_ext dotenv\n",
    "%dotenv "
   ]
  },
  {
   "cell_type": "code",
   "execution_count": 2,
   "metadata": {},
   "outputs": [],
   "source": [
    "import os"
   ]
  },
  {
   "cell_type": "code",
   "execution_count": 3,
   "metadata": {},
   "outputs": [],
   "source": [
    "from langchain_community.document_loaders import DirectoryLoader\n",
    "loader = DirectoryLoader(\"./dataset/raw_html\")\n",
    "documents = loader.load()"
   ]
  },
  {
   "cell_type": "code",
   "execution_count": 6,
   "metadata": {},
   "outputs": [],
   "source": [
    "for doc in documents:\n",
    "    doc.metadata[\"filename\"] = doc.metadata[\"source\"]"
   ]
  },
  {
   "cell_type": "code",
   "execution_count": 11,
   "metadata": {},
   "outputs": [
    {
     "data": {
      "text/plain": [
       "[Document(metadata={'source': 'dataset\\\\raw_html\\\\(N_A)Network_VPN_OSX.html', 'filename': 'dataset\\\\raw_html\\\\(N_A)Network_VPN_OSX.html'}, page_content='Network/VPN/macOS\\n\\nFrom UMIACS\\n\\n(Redirected from (N/A)Network/VPN/OSX )\\n\\nJump to navigation Jump to search\\n\\nThe UMIACS VPN is accessible through the Ivanti Connect Secure Client. Alternatively, you can establish a connection through a web browser , but this may fail if you have an outdated version of Ivanti Connect Secure already installed.\\n\\nContents\\n\\n1 Prerequisites\\n\\n2 Connecting through the Ivanti Connect Secure client\\n\\n3 Checking VPN Status\\n\\n4 Setup Security Requirement (Follow these steps if you encounter an error while connecting through the Ivanti Secure client)\\n\\nPrerequisites\\n\\nmacOS 13.x or higher as of the current version of the Ivanti Connect Secure Client\\n\\nA full UMIACS account\\n\\nDevice enrolled with UMIACS Duo for multi-factor authentication\\n\\nAn established network connection (wired or wireless)\\n\\nConnecting through the Ivanti Connect Secure client\\n\\nDownload the client:\\n\\nOpen the client and click \\'Add\\' (+) under the connection section.\\n\\nIn the \\'Name\\' field, enter a descriptive name for this vpn Connection.\\n\\nIn the \\'Server URL\\' enter \\'vpn.umiacs.umd.edu\\'\\n\\nEnter your UMIACS credentials and hit connect.\\n\\nComplete the MFA Verification Step. For example, if you wish to push a notification to your device, type the word \"push\" into the secondary password box.\\n\\nPro-tip: Select ‘Save Settings’ on the secondary authentication prompt to have Duo automatically use your preferred method.\\n\\nYou should now be connected to the UMIACS VPN. You can close the window and the VPN will remain connected.\\n\\nIf you encounter an error, please refer to the \"Setup Security Requirement\" section bellow.\\n\\nChecking VPN Status\\n\\nIn the top right hand corner, on your status bar, you should see an S icon in a black circle. If there\\'s a green arrow, that means you are connected! If there is nothing, that means you are not.\\n\\nYou can click this icon, as well, and it will show you the status of your connection.\\n\\nIf the icon is not in the status bar, you can find Pulse Secure in your Applications folder. There you will see a list of connections.\\n\\nSetup Security Requirement (Follow these steps if you encounter an error while connecting through the Ivanti Secure client)\\n\\nClick the Apple logo at the top left of your desktop\\n\\nClick System Settings\\n\\nClick Privacy & Security\\n\\nScroll to the Security section and select App Store and identified developers\\n\\nYou will have to enter your credentials\\n\\nClick Next to the message \"System Software From Developers \"Pulse Secure LLC\" was blocked from loading\" if prompted.\\n\\nClick Allow to enable the extension.\\n\\nClose the System Settings window.\\n\\nRetrieved from \" https://wiki.umiacs.umd.edu/umiacs/index.php?title=Network/VPN/macOS&oldid=12018 \"\\n\\nNavigation menu\\n\\nThis page was last edited on 12 September 2024, at 15:27.\\n\\nPrivacy policy\\n\\nAbout UMIACS\\n\\nDisclaimers'),\n",
       " Document(metadata={'source': 'dataset\\\\raw_html\\\\Accounts.html', 'filename': 'dataset\\\\raw_html\\\\Accounts.html'}, page_content='Accounts\\n\\nFrom UMIACS\\n\\nJump to navigation Jump to search\\n\\nThis page outlines the various account types at UMIACS and their management methods.\\n\\nDo not share any UMIACS-affiliated account for any purpose. Action may be taken against your account if you do so.\\n\\nContents\\n\\n1 UMIACS Account\\n\\n2 Guest / Collaborator Account\\n\\n3 Request a UMIACS account\\n\\n4 Password Requirements\\n\\n5 Changing account password\\n\\n5.1 If you know your current password\\n\\n5.2 If you do not know your current password\\n\\n6 Sponsored Accounts\\n\\n7 All Accounts Related Pages\\n\\nUMIACS Account\\n\\nA full UMIACS account consists of the following components:\\n\\nGuest / Collaborator Account\\n\\nRequest a UMIACS account\\n\\nFill out the account request form located at the UMIACS Account Request webapp . Please note that for the PI field you will be entering your PI/Professor/Sponsor\\'s account name here at UMIACS. Also indicate any labs you are a member of in the notes field to speed up access to your lab\\'s resources.\\n\\nOnce the form is submitted, it will send an email with a link to verify your email address. You must click this link to verify your email address before the system will send email to your PI to review the account request. Accounts can take anywhere from a few hours to a day for installation, depending on how quickly your PI approves your account.\\n\\nPassword Requirements\\n\\nWe have the following policies in regards to our ActiveDirectory passwords:\\n\\nMinimum Password Length : 8 Characters (more is allowed)\\n\\nMinimum Character Classes : 3 Character Classes\\n\\nEnglish uppercase characters (A - Z)\\n\\nEnglish lowercase characters (a - z)\\n\\nBase 10 digits (0 - 9)\\n\\nNon-alphanumeric (For example: !, $, #, or %)\\n\\nUnicode characters\\n\\nPassword cannot contain (or match a substring of 3+ sequential characters) of your username or any part of your first or last name.\\n\\nPassword was not previously used in last 5 passwords.\\n\\nPassword has not been compromised in a known data breach.\\n\\nIt is your responsibility to secure your password. Please choose a strong password, do not use your UMIACS password for any other service, and only connect using secure protocols.\\n\\nUMIACS staff members do not store your password in a retrievable format, so if you forget your password, you must reset it (next section).\\n\\nChanging account password\\n\\nIf you know your current password\\n\\nYou can use the UMIACS Password Web Application to change your password.\\n\\nIf you do not know your current password\\n\\nYou can reset your password yourself if you know your username and have already registered a mobile phone number and alternate E-mail address in our Directory Application .\\n\\nIf your account was a UMIACS Collaborator Account, your password can be reset by your sponsor via our Requests Application .\\n\\nYou can stop by the UMIACS Help Desk in room 3109 Iribe Center with a photo ID.\\n\\nIf you are unable to physically stop by the UMIACS Help Desk, you can have your account sponsor (PI) work with the UMIACS Help Desk to receive a temporary password on your behalf. The account sponsor will then be responsible for conveying the password to you in a secure manner. (e.g., Telephone, where they could identify you by voice)\\n\\nSponsored Accounts\\n\\nYou can view a list of the accounts you sponsor in the UMIACS Account Management Web Application . Clicking on an account\\'s display name will bring you to a management page where you can see details such as the installation date or email forward. From here you can edit your relationship to the account.\\n\\nYou can also request to remove your sponsorship or modify the expiration date, but these require staff action and are not immediate.\\n\\nAll Accounts Related Pages\\n\\nAccounts/Collaborator\\n\\nRetrieved from \" https://wiki.umiacs.umd.edu/umiacs/index.php?title=Accounts&oldid=11512 \"\\n\\nNavigation menu\\n\\nThis page was last edited on 7 January 2024, at 15:04.\\n\\nPrivacy policy\\n\\nAbout UMIACS\\n\\nDisclaimers'),\n",
       " Document(metadata={'source': 'dataset\\\\raw_html\\\\Accounts_Collaborator.html', 'filename': 'dataset\\\\raw_html\\\\Accounts_Collaborator.html'}, page_content='Accounts/Collaborator\\n\\nFrom UMIACS\\n\\nJump to navigation Jump to search\\n\\nA Collaborator account is a sponsored provisional account for non-UMIACS members that provides access to UMIACS applications such as GitLab , Object Storage , and MediaWiki instances. Collaborator accounts do not provide login access to UMIACS computers or access to networked file storage. Any access to GitLab repositories, ObjectStore buckets, etc. fall under their account sponsor and/or the PI. Access to your group\\'s resources is mediated through Security Groups, which can be managed in our UMIACS Directory Application .\\n\\nHow do I create a Collaborator Account?\\n\\nA UMIACS Account holder has to sponsor the Collaborator Account. This is done in our UMIACS Requests Application . This will send an email to the Collaborator to set their details (including a username and password). Once the Collaborator has created their account, an email will be sent to both the account sponsor and the Collaborator that the account is ready to use.\\n\\nHow do I manage my Collaborator Accounts?\\n\\nThis can be done in the UMIACS Requests Application . You can view a list of Collaborators that you directly sponsor. The following management actions are available:\\n\\nSend Password Reset: An email will be sent to the Collaborator with a link to reset their password.\\n\\nRemove Sponsorship: Staff will be notified to remove the selected accounts from your sponsorship.\\n\\nYou can also view Collaborators who are sponsored by users that you sponsor. Actions include:\\n\\nTake Over Sponsorship: Staff will be notified to transfer sponsorship to you, and the original sponsor of the Collaborator will be notified.\\n\\nRetrieved from \" https://wiki.umiacs.umd.edu/umiacs/index.php?title=Accounts/Collaborator&oldid=12044 \"\\n\\nNavigation menu\\n\\nThis page was last edited on 18 September 2024, at 13:53.\\n\\nPrivacy policy\\n\\nAbout UMIACS\\n\\nDisclaimers'),\n",
       " Document(metadata={'source': 'dataset\\\\raw_html\\\\ActiveDirectory.html', 'filename': 'dataset\\\\raw_html\\\\ActiveDirectory.html'}, page_content='ActiveDirectory\\n\\nFrom UMIACS\\n\\nJump to navigation Jump to search\\n\\nWindows Authentication is based on Kerberos standard authentication but with some extensions.\\n\\nYour ActiveDirectory authentication is used to log in to a variety of different places:\\n\\nUMIACS-supported computers\\n\\nUMIACS-supported web services\\n\\nUMIACS VPN\\n\\nYour account might be shown in either of these two alternate ways depending on the application you are using:\\n\\nUMIACS\\\\username\\n\\nusername@ad.umiacs.umd.edu\\n\\nRetrieved from \" https://wiki.umiacs.umd.edu/umiacs/index.php?title=ActiveDirectory&oldid=9356 \"\\n\\nNavigation menu\\n\\nThis page was last edited on 25 August 2020, at 14:08.\\n\\nPrivacy policy\\n\\nAbout UMIACS\\n\\nDisclaimers'),\n",
       " Document(metadata={'source': 'dataset\\\\raw_html\\\\AddingUMIACSCertificateAuthority.html', 'filename': 'dataset\\\\raw_html\\\\AddingUMIACSCertificateAuthority.html'}, page_content='AddingUMIACSCertificateAuthority\\n\\nFrom UMIACS\\n\\nJump to navigation Jump to search\\n\\nContents\\n\\n1 Introduction\\n\\n2 Windows\\n\\n3 Safari and Google Chrome (macOS)\\n\\n4 Other Browsers (Unix)\\n\\nIntroduction\\n\\nWhen you visit webpages encrypted with SSL, you may be presented with a warning about the site\\'s security certificate not being trusted. These are normally important screens to pay attention to on the internet as a whole and UMIACS goes to great lengths to maintain a secure environment for our users. However, it is not cost effective to provide commercial certs for all our public facing certificates. In order to keep costs down we provide a UMIACS CA (certificate authority) that enables your web browser to trust our secure webpages. The following steps explain how to import this certificate based on your preferred web browser.\\n\\nWindows\\n\\nFor most Windows browsers (Chrome, Firefox, Edge and Internet Explorer), certificate authorities are handled by Windows itself. These are the steps required to accept the certificate:\\n\\nClick UMIACS Certificate Authority to download the file.\\n\\nOpen the file and click \"Install Certificate\".\\n\\nIn the dialog box opened, click \"Next\".\\n\\nChoose \"Place all certificates in the following store\".\\n\\nChoose \"Browse\", in the dialog box opened, Choose \"Trusted Root Certification Authorities\" and click \"Ok\".\\n\\nClick \"Next\" and then \"Finish\".\\n\\nIf you get a Security Warning asking if you want to install this certificate, click \"Yes\".\\n\\nYou should receive a success message similar to the following:\\n\\nYou may need to restart your browser for the change to take effect.\\n\\nSafari and Google Chrome (macOS)\\n\\nFor most macOS browsers (excluding Firefox), certificate authorities are handled by macOS itself. This process requires administrator access. If you do not have administrator access and you are using a UMIACS-supported Mac, please contact Staff . Otherwise, here are the steps required to accept the certificate:\\n\\nClick UMIACS Certificate Authority to download the file.\\n\\nOpen Keychain Access (Located in the Others group in Launchpad)\\n\\nGo to the Systems > Certificates\\n\\nOpen the UMIACS Certificate Authority file by double-clicking it (should be located in your downloads folder).\\n\\nEnter your administrator password or use your fingerprint on the dialog box that appears.\\n\\nRight-click the certificate that was just added and select the \"Get Info\" section.\\n\\nSelect \"Always Trust\" option in the \"When using this certificate\" dropdown (\"Trust\" > \"When using this certificate\" > \"Always Trust\")\\n\\nClose the certificate and keychain access window.\\n\\nEnter the administrator credentials to add this certificate for all users of the system\\n\\nYou may need to restart your browser for the change to take effect.\\n\\nOther Browsers (Unix)\\n\\nIf you are using a browser other than Firefox in Unix, the process is more complicated than the above methods and may depend on your particular Unix distribution. If you need assistance with this please contact UMIACS Staff .\\n\\nRetrieved from \" https://wiki.umiacs.umd.edu/umiacs/index.php?title=AddingUMIACSCertificateAuthority&oldid=11521 \"\\n\\nNavigation menu\\n\\nThis page was last edited on 8 January 2024, at 15:57.\\n\\nPrivacy policy\\n\\nAbout UMIACS\\n\\nDisclaimers'),\n",
       " Document(metadata={'source': 'dataset\\\\raw_html\\\\Adobe.html', 'filename': 'dataset\\\\raw_html\\\\Adobe.html'}, page_content='Adobe\\n\\nFrom UMIACS\\n\\nJump to navigation Jump to search\\n\\nAdobe is a software development company most known for their multimedia software products and Flash Player. The commonly deployed Adobe product at UMIACS is the Creative Cloud Suite which contains products such as Acrobat, Photoshop, and more.\\n\\nInstallation and Licensing\\n\\nPlease note that UMD\\'s license only allows for two concurrent logons (on two computing devices) to use any Creative Cloud product. If you are already logged onto two devices and try to log on a third, it will prompt you to confirm that you are OK with being signed out of one or more of the other devices in order to use Creative Cloud products on that new device.\\n\\nUMIACS-supported desktop machines\\n\\nPlease contact staff if you would like one or more Creative Cloud products installed on a supported Windows or macOS desktop machine. Staff will install the Creative Cloud desktop app and the applications that you want.\\n\\nYou will still need to sign in with your UMD account to use the apps the same as how you have to for laptops or other personal machines by following the steps here .\\n\\nAll other machines\\n\\nCreative Cloud products can be installed on laptops or personal machines following the instructions provided by UMD on Terpware for Windows or macOS . Faculty and staff should choose the Faculty and Staff Enterprise for Individuals option.\\n\\nYou will be prompted to sign in when using any Creative Cloud product installed this way. Licensing is handled through your UMD account. Instructions for signing in can be found here .\\n\\nRetrieved from \" https://wiki.umiacs.umd.edu/umiacs/index.php?title=Adobe&oldid=11061 \"\\n\\nNavigation menu\\n\\nThis page was last edited on 3 July 2023, at 23:21.\\n\\nPrivacy policy\\n\\nAbout UMIACS\\n\\nDisclaimers'),\n",
       " Document(metadata={'source': 'dataset\\\\raw_html\\\\AlternativePickup.html', 'filename': 'dataset\\\\raw_html\\\\AlternativePickup.html'}, page_content='AlternativePickup\\n\\nFrom UMIACS\\n\\nJump to navigation Jump to search\\n\\nOverview\\n\\nPlease note that as of Fall 2021 with the University returning to fully onsite operation, you must have rationale other than COVID-19 precautions alone to make use of this service. Please pick up all other orders at our HelpDesk .\\n\\nProcedure\\n\\nPlease let us know that you want to pick up or drop something off by contacting staff and letting us acknowledge and confirm your request before coming on-campus. We will not be able to service you if you arrive without letting us know beforehand.\\n\\nPlease provide in your initial request:\\n\\nYour name\\n\\nWhat you are looking to pick up or drop off. Note: For large or heavy items, we may request that they only be picked up using car transportation instead of allowing on foot pickup to prevent accidental damage.\\n\\nIf applicable, the color, make, and model of vehicle that you are planning on stopping by in\\n\\nThe rough 15-minute window that you are planning on stopping by in\\n\\nDuring pickup:\\n\\nPlease ensure you have a photo ID. Staff will be checking for ID before handing off any items.\\n\\nCall the Help Desk at (301) 405-1775 when you are physically standing (on foot) or parked (in a vehicle) at the loop in parking lot GG1 behind AVW.\\n\\nWe will bring out your items either by hand or on a cart.\\n\\nWe will verify your ID and give you the items.\\n\\nMap\\n\\nFrom the main entrance to campus (off US Rt. 1):\\n\\nMake your first right to turn onto Paint Branch Drive.\\n\\nContinue straight past the Brendan Iribe Center and Wind Tunnel buildings on your right.\\n\\nContinue straight at the stop sign at Stadium Drive and straight past the Engineering Annex and A.V. Williams buildings on your right.\\n\\nMake a right at the stop sign immediately past A.V. Williams to enter lot GG1.\\n\\nFollow the path through the parking lot to reach the loop behind the A.V. Williams building.\\n\\nFrom the Paint Branch Drive entrance (off MD Rt. 193):\\n\\nContinue straight past the Xfinity Center and recreational fields as well as parking lots RR2 and XX1 on your right.\\n\\nContinue straight at the stop sign at Regents Drive and straight past the Biomolecular Sciences and A. James Clark Hall buildings on your right.\\n\\nMake a left at the stop sign immediately past A. James Clark Hall to enter lot GG1.\\n\\nFollow the path through the parking lot to reach the loop behind the A.V. Williams building.\\n\\nFor a full campus map, please visit https://maps.umd.edu/map/ .\\n\\nRetrieved from \" https://wiki.umiacs.umd.edu/umiacs/index.php?title=AlternativePickup&oldid=10004 \"\\n\\nNavigation menu\\n\\nThis page was last edited on 27 August 2021, at 17:34.\\n\\nPrivacy policy\\n\\nAbout UMIACS\\n\\nDisclaimers'),\n",
       " Document(metadata={'source': 'dataset\\\\raw_html\\\\ApplicationResource.html', 'filename': 'dataset\\\\raw_html\\\\ApplicationResource.html'}, page_content='SecGroups\\n\\nFrom UMIACS\\n\\n(Redirected from ApplicationResource )\\n\\nJump to navigation Jump to search\\n\\nSecurity Groups are authentication groups that control access to various applications in UMIACS. They provide fine-grained access control to wikis, source code repositories, and certain web applications.\\n\\nViewing/Editing Security Groups\\n\\nYou can view and edit the secgroups you belong to using the SecGroups section of the directory app.\\n\\nRetrieved from \" https://wiki.umiacs.umd.edu/umiacs/index.php?title=SecGroups&oldid=8487 \"\\n\\nNavigation menu\\n\\nThis page was last edited on 7 August 2019, at 18:25.\\n\\nPrivacy policy\\n\\nAbout UMIACS\\n\\nDisclaimers'),\n",
       " Document(metadata={'source': 'dataset\\\\raw_html\\\\Apptainer.html', 'filename': 'dataset\\\\raw_html\\\\Apptainer.html'}, page_content='Apptainer\\n\\nFrom UMIACS\\n\\nJump to navigation Jump to search\\n\\nApptainer is a container platform that doesn\\'t elevate the privileges of a user running the container. This is important as UMIACS runs many multi-tenant hosts (such as Nexus ) and doesn\\'t provide administrative control to users on them. While Docker is popular, the most typical setups require a daemon that has administrative level privileges that makes it not tenable.\\n\\nApptainer was previously branded as Singularity. You should still be able to run commands on the system with singularity , however you should start migrating to using the apptainer command.\\n\\nContents\\n\\n1 Overview\\n\\n2 Nexus Containers\\n\\n2.1 Bind Mounts\\n\\n2.2 Shared Containers\\n\\n3 Docker Workflow Example\\n\\nOverview\\n\\nYou can find out what the current version is that we provide by running the apptainer --version command. If this instead says apptainer: command not found and you are using a UMIACS-supported host, please contact staff and we will ensure that the software is available on the host you are looking for it on.\\n\\n# apptainer --version\\r\\napptainer version 1.2.5-1.el8\\r\\n\\nApptainer can run a variety of images including its own format and Docker images . To create images from definition files, you need to have administrative rights. You will need to either use Podman to accomplish this on UMIACS-supported hosts, or alternatively do this on a host that you have full administrative access to (laptop or personal desktop) rather than a UMIACS-supported host.\\n\\nIf you are going to pull large images, you may run out of space in your home directory. We suggest you run the following commands to setup alternate cache and tmp directories. We are using /scratch0 but you can substitute any large enough local scratch directory, network scratch directory, or project directory you would like.\\n\\nexport WORKDIR=/scratch0/$USER\\r\\nexport APPTAINER_CACHEDIR=${WORKDIR}/.cache\\r\\nexport APPTAINER_TMPDIR=${WORKDIR}/.tmp\\r\\nmkdir -p $APPTAINER_CACHEDIR\\r\\nmkdir -p $APPTAINER_TMPDIR\\r\\n\\nWe do suggest you pull images down into an intermediate file ( SIF file) as you then do not have to worry about re-caching the image.\\n\\n$ apptainer pull cuda12.2.2.sif docker://nvidia/cuda:12.2.2-base-ubi8\\r\\nINFO:    Converting OCI blobs to SIF format\\r\\nINFO:    Starting build...\\r\\nGetting image source signatures\\r\\nCopying blob d5d706ce7b29 done\\r\\nCopying blob b4dc78aeafca done\\r\\nCopying blob 24a22c1b7260 done\\r\\nCopying blob 8dea37be3176 done\\r\\nCopying blob 25fa05cd42bd done\\r\\nCopying blob a57130ec8de1 done\\r\\nCopying blob 880a66924cf5 done\\r\\nCopying config db554d658b done\\r\\nWriting manifest to image destination\\r\\nStoring signatures\\r\\n2022/10/14 10:31:17  info unpack layer: sha256:25fa05cd42bd8fabb25d2a6f3f8c9f7ab34637903d00fd2ed1c1d0fa980427dd\\r\\n2022/10/14 10:31:19  info unpack layer: sha256:24a22c1b72605a4dbcec13b743ef60a6cbb43185fe46fd8a35941f9af7c11153\\r\\n2022/10/14 10:31:19  info unpack layer: sha256:8dea37be3176a88fae41c265562d5fb438d9281c356dcb4edeaa51451dbdfdb2\\r\\n2022/10/14 10:31:20  info unpack layer: sha256:b4dc78aeafca6321025300e9d3050c5ba3fb2ac743ae547c6e1efa3f9284ce0b\\r\\n2022/10/14 10:31:20  info unpack layer: sha256:a57130ec8de1e44163e965620d5aed2abe6cddf48b48272964bfd8bca101df38\\r\\n2022/10/14 10:31:20  info unpack layer: sha256:d5d706ce7b293ffb369d3bf0e3f58f959977903b82eb26433fe58645f79b778b\\r\\n2022/10/14 10:31:49  info unpack layer: sha256:880a66924cf5e11df601a4f531f3741c6867a3e05238bc9b7cebb2a68d479204\\r\\nINFO:    Creating SIF file...\\r\\n\\n$ apptainer inspect cuda12.2.2.sif\\r\\n...\\r\\nmaintainer: NVIDIA CORPORATION <sw-cuda-installer@nvidia.com>\\r\\nname: ubi8\\r\\norg.label-schema.build-arch: amd64\\r\\norg.label-schema.build-date: Wednesday_24_January_2024_13:53:0_EST\\r\\norg.label-schema.schema-version: 1.0\\r\\norg.label-schema.usage.apptainer.version: 1.2.5-1.el8\\r\\norg.label-schema.usage.singularity.deffile.bootstrap: docker\\r\\norg.label-schema.usage.singularity.deffile.from: nvidia/cuda:12.2.2-base-ubi8\\r\\n...\\r\\n\\nNow you can run the local image with the run command or start a shell with the shell command.\\n\\nPlease note that if you are in an environment with GPUs and you want to access them inside the container you need to specify the --nv flag. Nvidia has a very specific driver and libraries that are required to run CUDA programs, so this is to ensure that all appropriate devices are created inside the container and that these libraries are made available in the container .\\n\\n$ apptainer run --nv cuda12.2.2.sif nvidia-smi -L\\r\\nGPU 0: NVIDIA GeForce GTX 1080 Ti (UUID: GPU-8e040d17-402e-cc86-4e83-eb2b1d501f1e)\\r\\nGPU 1: NVIDIA GeForce GTX 1080 Ti (UUID: GPU-d681a21a-8cdd-e624-6bf8-5b0234584ba2)\\r\\n\\nNexus Containers\\n\\nIn our Nexus environment we have some example containers based on our pytorch_docker project. These can be found in /fs/nexus-containers/pytorch .\\n\\nYou can just run one of the example images by doing the following (you should have already allocated a interactive job with a GPU in Nexus ). It will use the default script found at /srv/tensor.py within the image.\\n\\n$ hostname && nvidia-smi -L\\r\\ntron38.umiacs.umd.edu\\r\\nGPU 0: NVIDIA RTX A4000 (UUID: GPU-4a0a5644-9fc8-84b4-5d22-65d45ca36506)\\r\\n\\n$ apptainer run --nv /fs/nexus-containers/pytorch/pytorch_1.13.0+cu117.sif\\r\\n99 984.5538940429688\\r\\n199 654.1710815429688\\r\\n299 435.662353515625\\r\\n399 291.1429138183594\\r\\n499 195.5575714111328\\r\\n599 132.3363037109375\\r\\n699 90.5206069946289\\r\\n799 62.86213684082031\\r\\n899 44.56754684448242\\r\\n999 32.466392517089844\\r\\n1099 24.461835861206055\\r\\n1199 19.166893005371094\\r\\n1299 15.6642427444458\\r\\n1399 13.347112655639648\\r\\n1499 11.814264297485352\\r\\n1599 10.800163269042969\\r\\n1699 10.129261016845703\\r\\n1799 9.685370445251465\\r\\n1899 9.391674041748047\\r\\n1999 9.19735336303711\\r\\nResult: y = 0.0022362577728927135 + 0.837898313999176 x + -0.0003857926349155605 x^2 + -0.09065020829439163 x^3\\r\\n\\nBind Mounts\\n\\nTo get data into the container you need to pass some bind mounts . Apptainer containers will not automatically mount data from the outside operating system other than your home directory. Users need to manually bind mounts for other file paths.\\n\\n--bind /fs/nexus-scratch/<USERNAME>/<PROJECTNAME>:/mnt\\n\\nIn this example, we will exec an interactive session with GPUs and binding our Nexus scratch directory which allows us to specify the command we want to run inside the container.\\n\\napptainer exec --nv --bind /fs/nexus-scratch/username:/fs/nexus-scratch/username /fs/nexus-containers/pytorch/pytorch_1.13.0+cu117.sif bash\\r\\n\\nYou can now write/run your own pytorch python code interactively within the container or just make a python script that you can call directly from the apptainer exec command for batch processing.\\n\\nShared Containers\\n\\nPortable images called Singularity Image Format or .sif files can be copied and shared. Nexus maintains some shared containers in /fs/nexus-containers . These are arranged by the application(s) that are installed.\\n\\nDocker Workflow Example\\n\\nWe have a pytorch_docker example workflow using our GitLab as a Docker registry. You can clone the repository and further customize this to your needs. The workflow is:\\n\\nRun Docker on a laptop or personal desktop on to create the image, or use Podman on a UMIACS-supported system.\\n\\nTag the image and and push it to your repository (this can be any docker registry)\\n\\nPull the image down onto one of our workstations/clusters and run it with your data.\\n\\n$ apptainer pull pytorch_docker.sif docker://registry.umiacs.umd.edu/derek/pytorch_docker\\r\\nINFO:    Converting OCI blobs to SIF format\\r\\nINFO:    Starting build...\\r\\nGetting image source signatures\\r\\nCopying blob 85386706b020 done\\r\\n...\\r\\n2022/10/14 10:58:36  info unpack layer: sha256:b6f46848806c8750a68edc4463bf146ed6c3c4af18f5d3f23281dcdfb1c65055\\r\\n2022/10/14 10:58:43  info unpack layer: sha256:44845dc671f759820baac0376198141ca683f554bb16a177a3cfe262c9e368ff\\r\\nINFO:    Creating SIF file...\\r\\n\\n$ apptainer exec --nv pytorch_docker.sif python3 -c \\'from __future__ import print_function; import torch; print(torch.cuda.current_device()); x = torch.rand(5, 3); print(x)\\'\\r\\n0\\r\\ntensor([[0.3273, 0.7174, 0.3587],\\r\\n        [0.2250, 0.3896, 0.4136],\\r\\n        [0.3626, 0.0383, 0.6274],\\r\\n        [0.6241, 0.8079, 0.2950],\\r\\n        [0.0804, 0.9705, 0.0030]])\\r\\n\\nRetrieved from \" https://wiki.umiacs.umd.edu/umiacs/index.php?title=Apptainer&oldid=11997 \"\\n\\nNavigation menu\\n\\nThis page was last edited on 13 August 2024, at 17:51.\\n\\nPrivacy policy\\n\\nAbout UMIACS\\n\\nDisclaimers'),\n",
       " Document(metadata={'source': 'dataset\\\\raw_html\\\\Archives.html', 'filename': 'dataset\\\\raw_html\\\\Archives.html'}, page_content='Archives\\n\\nFrom UMIACS\\n\\nJump to navigation Jump to search\\n\\nUMIACS Archives\\n\\nUMIACS archives data for a period of 5 years.\\n\\nWhat we generally do archive:\\n\\npersistent local data from primary drives on UMIACS-supported machines (Windows/macOS only)\\n\\ndata from accounts that are closed (metadata, network home directories, GitLab repositories, etc.)\\n\\ndata from retired non-scratch, non-project storage spaces (network home directories)\\n\\nWhat we generally do not archive:\\n\\n/tmp and /scratch directories (as discussed on our page about data storage )\\n\\nTemporary project directories\\n\\nExternal drives that were attached to a UMIACS-supported machine\\n\\nData that migrated forward from one UMIACS-supported machine to a new UMIACS-supported machine\\n\\nData that was handed off into the care of the end-user or PI via external drive\\n\\nData from drives that failed and was not under backup protection (unavailable for us to archive)\\n\\nAny data from self-supported machines\\n\\nRetrieved from \" https://wiki.umiacs.umd.edu/umiacs/index.php?title=Archives&oldid=10970 \"\\n\\nNavigation menu\\n\\nThis page was last edited on 5 June 2023, at 14:05.\\n\\nPrivacy policy\\n\\nAbout UMIACS\\n\\nDisclaimers')]"
      ]
     },
     "execution_count": 11,
     "metadata": {},
     "output_type": "execute_result"
    }
   ],
   "source": [
    "# get first 10 for testing i guess\n",
    "ndocuments = documents[:10]\n",
    "ndocuments"
   ]
  },
  {
   "cell_type": "code",
   "execution_count": 12,
   "metadata": {},
   "outputs": [],
   "source": [
    "from ragas.testset.generator import TestsetGenerator\n",
    "from ragas.testset.evolutions import simple, reasoning, multi_context\n",
    "from langchain_openai import ChatOpenAI, OpenAIEmbeddings\n",
    "\n",
    "generator_llm = ChatOpenAI(model=\"gpt-4o-mini\")\n",
    "critic_llm = ChatOpenAI(model=\"gpt-4o\")\n",
    "embeddings = OpenAIEmbeddings()\n",
    "\n",
    "generator = TestsetGenerator.from_langchain(\n",
    "    generator_llm,\n",
    "    critic_llm,\n",
    "    embeddings \n",
    ")"
   ]
  },
  {
   "cell_type": "code",
   "execution_count": 13,
   "metadata": {},
   "outputs": [
    {
     "name": "stderr",
     "output_type": "stream",
     "text": [
      "Generating: 100%|██████████| 10/10 [02:11<00:00, 13.10s/it]     \n"
     ]
    }
   ],
   "source": [
    "testset = generator.generate_with_langchain_docs(ndocuments, test_size=10, distributions={simple: 0.5, reasoning: 0.5, multi_context: 0})"
   ]
  },
  {
   "cell_type": "code",
   "execution_count": 16,
   "metadata": {},
   "outputs": [
    {
     "data": {
      "text/html": [
       "<div>\n",
       "<style scoped>\n",
       "    .dataframe tbody tr th:only-of-type {\n",
       "        vertical-align: middle;\n",
       "    }\n",
       "\n",
       "    .dataframe tbody tr th {\n",
       "        vertical-align: top;\n",
       "    }\n",
       "\n",
       "    .dataframe thead th {\n",
       "        text-align: right;\n",
       "    }\n",
       "</style>\n",
       "<table border=\"1\" class=\"dataframe\">\n",
       "  <thead>\n",
       "    <tr style=\"text-align: right;\">\n",
       "      <th></th>\n",
       "      <th>question</th>\n",
       "      <th>contexts</th>\n",
       "      <th>ground_truth</th>\n",
       "      <th>evolution_type</th>\n",
       "      <th>metadata</th>\n",
       "      <th>episode_done</th>\n",
       "    </tr>\n",
       "  </thead>\n",
       "  <tbody>\n",
       "    <tr>\n",
       "      <th>0</th>\n",
       "      <td>What types of images can Apptainer run, and ho...</td>\n",
       "      <td>[Apptainer\\n\\nFrom UMIACS\\n\\nJump to navigatio...</td>\n",
       "      <td>Apptainer can run a variety of images includin...</td>\n",
       "      <td>simple</td>\n",
       "      <td>[{'source': 'dataset\\raw_html\\Apptainer.html',...</td>\n",
       "      <td>True</td>\n",
       "    </tr>\n",
       "    <tr>\n",
       "      <th>1</th>\n",
       "      <td>What are the guidelines for installing and lic...</td>\n",
       "      <td>[Adobe\\n\\nFrom UMIACS\\n\\nJump to navigation Ju...</td>\n",
       "      <td>The guidelines for installing and licensing Ad...</td>\n",
       "      <td>simple</td>\n",
       "      <td>[{'source': 'dataset\\raw_html\\Adobe.html', 'fi...</td>\n",
       "      <td>True</td>\n",
       "    </tr>\n",
       "    <tr>\n",
       "      <th>2</th>\n",
       "      <td>What steps should you follow to change your UM...</td>\n",
       "      <td>[Accounts\\n\\nFrom UMIACS\\n\\nJump to navigation...</td>\n",
       "      <td>To change your UMIACS account password if you ...</td>\n",
       "      <td>simple</td>\n",
       "      <td>[{'source': 'dataset\\raw_html\\Accounts.html', ...</td>\n",
       "      <td>True</td>\n",
       "    </tr>\n",
       "    <tr>\n",
       "      <th>3</th>\n",
       "      <td>What is the minimum macOS version required to ...</td>\n",
       "      <td>[Network/VPN/macOS\\n\\nFrom UMIACS\\n\\n(Redirect...</td>\n",
       "      <td>The minimum macOS version required to use the ...</td>\n",
       "      <td>simple</td>\n",
       "      <td>[{'source': 'dataset\\raw_html\\(N_A)Network_VPN...</td>\n",
       "      <td>True</td>\n",
       "    </tr>\n",
       "    <tr>\n",
       "      <th>4</th>\n",
       "      <td>What is the purpose of binding the Nexus scrat...</td>\n",
       "      <td>[^3\\r\\n\\nBind Mounts\\n\\nTo get data into the c...</td>\n",
       "      <td>The purpose of binding the Nexus scratch direc...</td>\n",
       "      <td>simple</td>\n",
       "      <td>[{'source': 'dataset\\raw_html\\Apptainer.html',...</td>\n",
       "      <td>True</td>\n",
       "    </tr>\n",
       "    <tr>\n",
       "      <th>5</th>\n",
       "      <td>Which command allows GPU access for CUDA in co...</td>\n",
       "      <td>[\\n2022/10/14 10:31:20  info unpack layer: sha...</td>\n",
       "      <td>The command that allows GPU access for CUDA in...</td>\n",
       "      <td>reasoning</td>\n",
       "      <td>[{'source': 'dataset\\raw_html\\Apptainer.html',...</td>\n",
       "      <td>True</td>\n",
       "    </tr>\n",
       "    <tr>\n",
       "      <th>6</th>\n",
       "      <td>How does the GTX 1080 Ti assist with CUDA in c...</td>\n",
       "      <td>[\\n2022/10/14 10:31:20  info unpack layer: sha...</td>\n",
       "      <td>The answer to given question is not present in...</td>\n",
       "      <td>reasoning</td>\n",
       "      <td>[{'source': 'dataset\\raw_html\\Apptainer.html',...</td>\n",
       "      <td>True</td>\n",
       "    </tr>\n",
       "    <tr>\n",
       "      <th>7</th>\n",
       "      <td>What should a UMIACS password avoid to not mat...</td>\n",
       "      <td>[Accounts\\n\\nFrom UMIACS\\n\\nJump to navigation...</td>\n",
       "      <td>A UMIACS password should not contain (or match...</td>\n",
       "      <td>reasoning</td>\n",
       "      <td>[{'source': 'dataset\\raw_html\\Accounts.html', ...</td>\n",
       "      <td>True</td>\n",
       "    </tr>\n",
       "    <tr>\n",
       "      <th>8</th>\n",
       "      <td>Which flag is key for GPU access in CUDA conta...</td>\n",
       "      <td>[Apptainer\\n\\nFrom UMIACS\\n\\nJump to navigatio...</td>\n",
       "      <td>The answer to given question is not present in...</td>\n",
       "      <td>reasoning</td>\n",
       "      <td>[{'source': 'dataset\\raw_html\\Apptainer.html',...</td>\n",
       "      <td>True</td>\n",
       "    </tr>\n",
       "    <tr>\n",
       "      <th>9</th>\n",
       "      <td>How to install a UMIACS cert in Windows browsers?</td>\n",
       "      <td>[AddingUMIACSCertificateAuthority\\n\\nFrom UMIA...</td>\n",
       "      <td>To install a UMIACS certificate in Windows bro...</td>\n",
       "      <td>reasoning</td>\n",
       "      <td>[{'source': 'dataset\\raw_html\\AddingUMIACSCert...</td>\n",
       "      <td>True</td>\n",
       "    </tr>\n",
       "  </tbody>\n",
       "</table>\n",
       "</div>"
      ],
      "text/plain": [
       "                                            question  ... episode_done\n",
       "0  What types of images can Apptainer run, and ho...  ...         True\n",
       "1  What are the guidelines for installing and lic...  ...         True\n",
       "2  What steps should you follow to change your UM...  ...         True\n",
       "3  What is the minimum macOS version required to ...  ...         True\n",
       "4  What is the purpose of binding the Nexus scrat...  ...         True\n",
       "5  Which command allows GPU access for CUDA in co...  ...         True\n",
       "6  How does the GTX 1080 Ti assist with CUDA in c...  ...         True\n",
       "7  What should a UMIACS password avoid to not mat...  ...         True\n",
       "8  Which flag is key for GPU access in CUDA conta...  ...         True\n",
       "9  How to install a UMIACS cert in Windows browsers?  ...         True\n",
       "\n",
       "[10 rows x 6 columns]"
      ]
     },
     "execution_count": 16,
     "metadata": {},
     "output_type": "execute_result"
    }
   ],
   "source": [
    "df = testset.to_pandas()\n",
    "df"
   ]
  },
  {
   "cell_type": "code",
   "execution_count": 36,
   "metadata": {},
   "outputs": [
    {
     "name": "stdout",
     "output_type": "stream",
     "text": [
      "A UMIACS password should not contain (or match a substring of 3+ sequential characters) of your username or any part of your first or last name. \n",
      "\n"
     ]
    }
   ],
   "source": [
    "print(df[\"ground_truth\"][7], \"\\n\")"
   ]
  },
  {
   "cell_type": "markdown",
   "metadata": {},
   "source": [
    "this is terrible the original context is this: \n",
    "\n",
    "<h2><span class=\"mw-headline\" id=\"Password_Requirements\">Password Requirements</span></h2>\n",
    "<p>We have the following policies in regards to our <a href=\"/umiacs/index.php/ActiveDirectory\" title=\"ActiveDirectory\">ActiveDirectory</a> passwords:\n",
    "</p>\n",
    "<ul><li>Minimum Password Length&nbsp;: 8 Characters (more is allowed)</li>\n",
    "<li>Minimum Character Classes&nbsp;: 3 Character Classes\n",
    "<ul><li>English uppercase characters (A - Z)</li>\n",
    "<li>English lowercase characters (a - z)</li>\n",
    "<li>Base 10 digits (0 - 9)</li>\n",
    "<li>Non-alphanumeric (For example:&nbsp;!, $, #, or&nbsp;%)</li>\n",
    "<li>Unicode characters</li></ul></li>\n",
    "<li>Password cannot contain (or match a substring of 3+ sequential characters) of your username or any part of your first or last name.</li>\n",
    "<li>Password was not previously used in last 5 passwords.</li>\n",
    "<li>Password has not been <a href=\"/umiacs/index.php/CompromisedPasswordFiltering\" title=\"CompromisedPasswordFiltering\"> compromised</a> in a known data breach.</li></ul>\n",
    "<p>It is your responsibility to secure your password. Please choose a strong password, do not use your UMIACS password for any other service, and only connect using secure protocols.\n",
    "</p><p>UMIACS staff members do not store your password in a retrievable format, so if you forget your password, you must reset it (next section).\n",
    "</p>"
   ]
  },
  {
   "cell_type": "code",
   "execution_count": 52,
   "metadata": {},
   "outputs": [
    {
     "name": "stdout",
     "output_type": "stream",
     "text": [
      "The autoreload extension is already loaded. To reload it, use:\n",
      "  %reload_ext autoreload\n"
     ]
    }
   ],
   "source": [
    "%load_ext autoreload\n",
    "%autoreload 2"
   ]
  },
  {
   "cell_type": "code",
   "execution_count": 77,
   "metadata": {},
   "outputs": [],
   "source": [
    "models = __import__(\"model wrappers\") # it's not letting me rename and i don't wanna rerun this notebook\n",
    "RAGFlow = models.wrappers.RAGFlow"
   ]
  },
  {
   "cell_type": "code",
   "execution_count": 78,
   "metadata": {},
   "outputs": [],
   "source": [
    "chat = RAGFlow(\"http://localhost\", \"ragflow-FlMGI3NDYyODExYjExZWZiZmJjMDI0Mm\")"
   ]
  },
  {
   "cell_type": "code",
   "execution_count": 79,
   "metadata": {},
   "outputs": [
    {
     "data": {
      "text/plain": [
       "'The answer you are looking for is not found in the knowledge base.'"
      ]
     },
     "execution_count": 79,
     "metadata": {},
     "output_type": "execute_result"
    }
   ],
   "source": [
    "chat(\"hi\")"
   ]
  },
  {
   "cell_type": "code",
   "execution_count": 81,
   "metadata": {},
   "outputs": [],
   "source": [
    "x = df.apply(lambda x: chat(x[\"question\"]), axis=1)"
   ]
  },
  {
   "cell_type": "code",
   "execution_count": 85,
   "metadata": {},
   "outputs": [
    {
     "data": {
      "text/html": [
       "<div>\n",
       "<style scoped>\n",
       "    .dataframe tbody tr th:only-of-type {\n",
       "        vertical-align: middle;\n",
       "    }\n",
       "\n",
       "    .dataframe tbody tr th {\n",
       "        vertical-align: top;\n",
       "    }\n",
       "\n",
       "    .dataframe thead th {\n",
       "        text-align: right;\n",
       "    }\n",
       "</style>\n",
       "<table border=\"1\" class=\"dataframe\">\n",
       "  <thead>\n",
       "    <tr style=\"text-align: right;\">\n",
       "      <th></th>\n",
       "      <th>question</th>\n",
       "      <th>contexts</th>\n",
       "      <th>ground_truth</th>\n",
       "      <th>evolution_type</th>\n",
       "      <th>metadata</th>\n",
       "      <th>episode_done</th>\n",
       "      <th>answer</th>\n",
       "    </tr>\n",
       "  </thead>\n",
       "  <tbody>\n",
       "    <tr>\n",
       "      <th>0</th>\n",
       "      <td>What types of images can Apptainer run, and ho...</td>\n",
       "      <td>[Apptainer\\n\\nFrom UMIACS\\n\\nJump to navigatio...</td>\n",
       "      <td>Apptainer can run a variety of images includin...</td>\n",
       "      <td>simple</td>\n",
       "      <td>[{'source': 'dataset\\raw_html\\Apptainer.html',...</td>\n",
       "      <td>True</td>\n",
       "      <td>Apptainer can run a variety of images includin...</td>\n",
       "    </tr>\n",
       "    <tr>\n",
       "      <th>1</th>\n",
       "      <td>What are the guidelines for installing and lic...</td>\n",
       "      <td>[Adobe\\n\\nFrom UMIACS\\n\\nJump to navigation Ju...</td>\n",
       "      <td>The guidelines for installing and licensing Ad...</td>\n",
       "      <td>simple</td>\n",
       "      <td>[{'source': 'dataset\\raw_html\\Adobe.html', 'fi...</td>\n",
       "      <td>True</td>\n",
       "      <td>At UMIACS, the commonly deployed Adobe product...</td>\n",
       "    </tr>\n",
       "    <tr>\n",
       "      <th>2</th>\n",
       "      <td>What steps should you follow to change your UM...</td>\n",
       "      <td>[Accounts\\n\\nFrom UMIACS\\n\\nJump to navigation...</td>\n",
       "      <td>To change your UMIACS account password if you ...</td>\n",
       "      <td>simple</td>\n",
       "      <td>[{'source': 'dataset\\raw_html\\Accounts.html', ...</td>\n",
       "      <td>True</td>\n",
       "      <td>If you know your current password, you can use...</td>\n",
       "    </tr>\n",
       "    <tr>\n",
       "      <th>3</th>\n",
       "      <td>What is the minimum macOS version required to ...</td>\n",
       "      <td>[Network/VPN/macOS\\n\\nFrom UMIACS\\n\\n(Redirect...</td>\n",
       "      <td>The minimum macOS version required to use the ...</td>\n",
       "      <td>simple</td>\n",
       "      <td>[{'source': 'dataset\\raw_html\\(N_A)Network_VPN...</td>\n",
       "      <td>True</td>\n",
       "      <td>The minimum macOS version required to use the ...</td>\n",
       "    </tr>\n",
       "    <tr>\n",
       "      <th>4</th>\n",
       "      <td>What is the purpose of binding the Nexus scrat...</td>\n",
       "      <td>[^3\\r\\n\\nBind Mounts\\n\\nTo get data into the c...</td>\n",
       "      <td>The purpose of binding the Nexus scratch direc...</td>\n",
       "      <td>simple</td>\n",
       "      <td>[{'source': 'dataset\\raw_html\\Apptainer.html',...</td>\n",
       "      <td>True</td>\n",
       "      <td>To get data into the Apptainer container, you ...</td>\n",
       "    </tr>\n",
       "    <tr>\n",
       "      <th>5</th>\n",
       "      <td>Which command allows GPU access for CUDA in co...</td>\n",
       "      <td>[\\n2022/10/14 10:31:20  info unpack layer: sha...</td>\n",
       "      <td>The command that allows GPU access for CUDA in...</td>\n",
       "      <td>reasoning</td>\n",
       "      <td>[{'source': 'dataset\\raw_html\\Apptainer.html',...</td>\n",
       "      <td>True</td>\n",
       "      <td>The command that allows GPU access for CUDA in...</td>\n",
       "    </tr>\n",
       "    <tr>\n",
       "      <th>6</th>\n",
       "      <td>How does the GTX 1080 Ti assist with CUDA in c...</td>\n",
       "      <td>[\\n2022/10/14 10:31:20  info unpack layer: sha...</td>\n",
       "      <td>The answer to given question is not present in...</td>\n",
       "      <td>reasoning</td>\n",
       "      <td>[{'source': 'dataset\\raw_html\\Apptainer.html',...</td>\n",
       "      <td>True</td>\n",
       "      <td>The GTX 1080 Ti assists with CUDA in container...</td>\n",
       "    </tr>\n",
       "    <tr>\n",
       "      <th>7</th>\n",
       "      <td>What should a UMIACS password avoid to not mat...</td>\n",
       "      <td>[Accounts\\n\\nFrom UMIACS\\n\\nJump to navigation...</td>\n",
       "      <td>A UMIACS password should not contain (or match...</td>\n",
       "      <td>reasoning</td>\n",
       "      <td>[{'source': 'dataset\\raw_html\\Accounts.html', ...</td>\n",
       "      <td>True</td>\n",
       "      <td>The knowledge base does not provide specific d...</td>\n",
       "    </tr>\n",
       "    <tr>\n",
       "      <th>8</th>\n",
       "      <td>Which flag is key for GPU access in CUDA conta...</td>\n",
       "      <td>[Apptainer\\n\\nFrom UMIACS\\n\\nJump to navigatio...</td>\n",
       "      <td>The answer to given question is not present in...</td>\n",
       "      <td>reasoning</td>\n",
       "      <td>[{'source': 'dataset\\raw_html\\Apptainer.html',...</td>\n",
       "      <td>True</td>\n",
       "      <td>The key flag for accessing GPUs in CUDA contai...</td>\n",
       "    </tr>\n",
       "    <tr>\n",
       "      <th>9</th>\n",
       "      <td>How to install a UMIACS cert in Windows browsers?</td>\n",
       "      <td>[AddingUMIACSCertificateAuthority\\n\\nFrom UMIA...</td>\n",
       "      <td>To install a UMIACS certificate in Windows bro...</td>\n",
       "      <td>reasoning</td>\n",
       "      <td>[{'source': 'dataset\\raw_html\\AddingUMIACSCert...</td>\n",
       "      <td>True</td>\n",
       "      <td>For most Windows browsers (Chrome, Firefox, Ed...</td>\n",
       "    </tr>\n",
       "  </tbody>\n",
       "</table>\n",
       "</div>"
      ],
      "text/plain": [
       "                                            question  ...                                             answer\n",
       "0  What types of images can Apptainer run, and ho...  ...  Apptainer can run a variety of images includin...\n",
       "1  What are the guidelines for installing and lic...  ...  At UMIACS, the commonly deployed Adobe product...\n",
       "2  What steps should you follow to change your UM...  ...  If you know your current password, you can use...\n",
       "3  What is the minimum macOS version required to ...  ...  The minimum macOS version required to use the ...\n",
       "4  What is the purpose of binding the Nexus scrat...  ...  To get data into the Apptainer container, you ...\n",
       "5  Which command allows GPU access for CUDA in co...  ...  The command that allows GPU access for CUDA in...\n",
       "6  How does the GTX 1080 Ti assist with CUDA in c...  ...  The GTX 1080 Ti assists with CUDA in container...\n",
       "7  What should a UMIACS password avoid to not mat...  ...  The knowledge base does not provide specific d...\n",
       "8  Which flag is key for GPU access in CUDA conta...  ...  The key flag for accessing GPUs in CUDA contai...\n",
       "9  How to install a UMIACS cert in Windows browsers?  ...  For most Windows browsers (Chrome, Firefox, Ed...\n",
       "\n",
       "[10 rows x 7 columns]"
      ]
     },
     "execution_count": 85,
     "metadata": {},
     "output_type": "execute_result"
    }
   ],
   "source": [
    "df[\"answer\"] = x\n",
    "df"
   ]
  },
  {
   "cell_type": "code",
   "execution_count": 93,
   "metadata": {},
   "outputs": [
    {
     "name": "stderr",
     "output_type": "stream",
     "text": [
      "c:\\Users\\Andrew\\miniforge3\\lib\\site-packages\\huggingface_hub\\file_download.py:147: UserWarning: `huggingface_hub` cache-system uses symlinks by default to efficiently store duplicated files but your machine does not support them in C:\\Users\\Andrew\\.cache\\huggingface\\hub\\models--vectara--hallucination_evaluation_model. Caching files will still work but in a degraded version that might require more space on your disk. This warning can be disabled by setting the `HF_HUB_DISABLE_SYMLINKS_WARNING` environment variable. For more details, see https://huggingface.co/docs/huggingface_hub/how-to-cache#limitations.\n",
      "To support symlinks on Windows, you either need to activate Developer Mode or to run Python as an administrator. In order to activate developer mode, see this article: https://docs.microsoft.com/en-us/windows/apps/get-started/enable-your-device-for-development\n",
      "  warnings.warn(message)\n",
      "A new version of the following files was downloaded from https://huggingface.co/vectara/hallucination_evaluation_model:\n",
      "- configuration_hhem_v2.py\n",
      ". Make sure to double-check they do not contain any added malicious code. To avoid downloading new versions of the code file, you can pin a revision.\n",
      "You are using a model of type HHEMv2Config to instantiate a model of type HHEMv2. This is not supported for all configurations of models and can yield errors.\n",
      "A new version of the following files was downloaded from https://huggingface.co/vectara/hallucination_evaluation_model:\n",
      "- modeling_hhem_v2.py\n",
      ". Make sure to double-check they do not contain any added malicious code. To avoid downloading new versions of the code file, you can pin a revision.\n",
      "c:\\Users\\Andrew\\miniforge3\\lib\\site-packages\\huggingface_hub\\file_download.py:147: UserWarning: `huggingface_hub` cache-system uses symlinks by default to efficiently store duplicated files but your machine does not support them in C:\\Users\\Andrew\\.cache\\huggingface\\hub\\models--google--flan-t5-base. Caching files will still work but in a degraded version that might require more space on your disk. This warning can be disabled by setting the `HF_HUB_DISABLE_SYMLINKS_WARNING` environment variable. For more details, see https://huggingface.co/docs/huggingface_hub/how-to-cache#limitations.\n",
      "To support symlinks on Windows, you either need to activate Developer Mode or to run Python as an administrator. In order to activate developer mode, see this article: https://docs.microsoft.com/en-us/windows/apps/get-started/enable-your-device-for-development\n",
      "  warnings.warn(message)\n"
     ]
    }
   ],
   "source": [
    "from ragas.metrics import (answer_relevancy, FaithulnesswithHHEM, context_recall, context_precision)\n",
    "faithfulness = FaithulnesswithHHEM() # why is there a typo xd ? \n",
    "from ragas import evaluate"
   ]
  },
  {
   "cell_type": "code",
   "execution_count": 95,
   "metadata": {},
   "outputs": [],
   "source": [
    "from datasets import Dataset"
   ]
  },
  {
   "cell_type": "code",
   "execution_count": 96,
   "metadata": {},
   "outputs": [],
   "source": [
    "dataset = Dataset.from_pandas(df)"
   ]
  },
  {
   "cell_type": "code",
   "execution_count": 97,
   "metadata": {},
   "outputs": [
    {
     "name": "stderr",
     "output_type": "stream",
     "text": [
      "Evaluating:   2%|▎         | 1/40 [00:01<01:06,  1.70s/it]Token indices sequence length is longer than the specified maximum sequence length for this model (724 > 512). Running this sequence through the model will result in indexing errors\n",
      "Evaluating: 100%|██████████| 40/40 [00:57<00:00,  1.43s/it]\n"
     ]
    },
    {
     "data": {
      "text/plain": [
       "{'context_precision': 0.8000, 'faithfulness_with_hhem': 0.7091, 'answer_relevancy': 0.8535, 'context_recall': 1.0000}"
      ]
     },
     "execution_count": 97,
     "metadata": {},
     "output_type": "execute_result"
    }
   ],
   "source": [
    "result = evaluate(dataset, metrics=[context_precision, faithfulness, answer_relevancy, context_recall])\n",
    "result"
   ]
  },
  {
   "cell_type": "code",
   "execution_count": 104,
   "metadata": {},
   "outputs": [
    {
     "data": {
      "text/html": [
       "<div>\n",
       "<style scoped>\n",
       "    .dataframe tbody tr th:only-of-type {\n",
       "        vertical-align: middle;\n",
       "    }\n",
       "\n",
       "    .dataframe tbody tr th {\n",
       "        vertical-align: top;\n",
       "    }\n",
       "\n",
       "    .dataframe thead th {\n",
       "        text-align: right;\n",
       "    }\n",
       "</style>\n",
       "<table border=\"1\" class=\"dataframe\">\n",
       "  <thead>\n",
       "    <tr style=\"text-align: right;\">\n",
       "      <th></th>\n",
       "      <th>question</th>\n",
       "      <th>contexts</th>\n",
       "      <th>ground_truth</th>\n",
       "      <th>evolution_type</th>\n",
       "      <th>metadata</th>\n",
       "      <th>episode_done</th>\n",
       "      <th>answer</th>\n",
       "      <th>context_precision</th>\n",
       "      <th>faithfulness_with_hhem</th>\n",
       "      <th>answer_relevancy</th>\n",
       "      <th>context_recall</th>\n",
       "    </tr>\n",
       "  </thead>\n",
       "  <tbody>\n",
       "    <tr>\n",
       "      <th>0</th>\n",
       "      <td>What types of images can Apptainer run, and ho...</td>\n",
       "      <td>[Apptainer\\n\\nFrom UMIACS\\n\\nJump to navigatio...</td>\n",
       "      <td>Apptainer can run a variety of images includin...</td>\n",
       "      <td>simple</td>\n",
       "      <td>[{'filename': 'dataset\\raw_html\\Apptainer.html...</td>\n",
       "      <td>True</td>\n",
       "      <td>Apptainer can run a variety of images includin...</td>\n",
       "      <td>1.0</td>\n",
       "      <td>0.666667</td>\n",
       "      <td>0.957453</td>\n",
       "      <td>1.0</td>\n",
       "    </tr>\n",
       "    <tr>\n",
       "      <th>1</th>\n",
       "      <td>What are the guidelines for installing and lic...</td>\n",
       "      <td>[Adobe\\n\\nFrom UMIACS\\n\\nJump to navigation Ju...</td>\n",
       "      <td>The guidelines for installing and licensing Ad...</td>\n",
       "      <td>simple</td>\n",
       "      <td>[{'filename': 'dataset\\raw_html\\Adobe.html', '...</td>\n",
       "      <td>True</td>\n",
       "      <td>At UMIACS, the commonly deployed Adobe product...</td>\n",
       "      <td>1.0</td>\n",
       "      <td>0.875000</td>\n",
       "      <td>0.963876</td>\n",
       "      <td>1.0</td>\n",
       "    </tr>\n",
       "    <tr>\n",
       "      <th>2</th>\n",
       "      <td>What steps should you follow to change your UM...</td>\n",
       "      <td>[Accounts\\n\\nFrom UMIACS\\n\\nJump to navigation...</td>\n",
       "      <td>To change your UMIACS account password if you ...</td>\n",
       "      <td>simple</td>\n",
       "      <td>[{'filename': 'dataset\\raw_html\\Accounts.html'...</td>\n",
       "      <td>True</td>\n",
       "      <td>If you know your current password, you can use...</td>\n",
       "      <td>1.0</td>\n",
       "      <td>1.000000</td>\n",
       "      <td>0.878369</td>\n",
       "      <td>1.0</td>\n",
       "    </tr>\n",
       "    <tr>\n",
       "      <th>3</th>\n",
       "      <td>What is the minimum macOS version required to ...</td>\n",
       "      <td>[Network/VPN/macOS\\n\\nFrom UMIACS\\n\\n(Redirect...</td>\n",
       "      <td>The minimum macOS version required to use the ...</td>\n",
       "      <td>simple</td>\n",
       "      <td>[{'filename': 'dataset\\raw_html\\(N_A)Network_V...</td>\n",
       "      <td>True</td>\n",
       "      <td>The minimum macOS version required to use the ...</td>\n",
       "      <td>1.0</td>\n",
       "      <td>1.000000</td>\n",
       "      <td>0.999992</td>\n",
       "      <td>1.0</td>\n",
       "    </tr>\n",
       "    <tr>\n",
       "      <th>4</th>\n",
       "      <td>What is the purpose of binding the Nexus scrat...</td>\n",
       "      <td>[^3\\r\\n\\nBind Mounts\\n\\nTo get data into the c...</td>\n",
       "      <td>The purpose of binding the Nexus scratch direc...</td>\n",
       "      <td>simple</td>\n",
       "      <td>[{'filename': 'dataset\\raw_html\\Apptainer.html...</td>\n",
       "      <td>True</td>\n",
       "      <td>To get data into the Apptainer container, you ...</td>\n",
       "      <td>1.0</td>\n",
       "      <td>1.000000</td>\n",
       "      <td>0.830004</td>\n",
       "      <td>1.0</td>\n",
       "    </tr>\n",
       "    <tr>\n",
       "      <th>5</th>\n",
       "      <td>Which command allows GPU access for CUDA in co...</td>\n",
       "      <td>[\\n2022/10/14 10:31:20  info unpack layer: sha...</td>\n",
       "      <td>The command that allows GPU access for CUDA in...</td>\n",
       "      <td>reasoning</td>\n",
       "      <td>[{'filename': 'dataset\\raw_html\\Apptainer.html...</td>\n",
       "      <td>True</td>\n",
       "      <td>The command that allows GPU access for CUDA in...</td>\n",
       "      <td>1.0</td>\n",
       "      <td>0.500000</td>\n",
       "      <td>0.997138</td>\n",
       "      <td>1.0</td>\n",
       "    </tr>\n",
       "    <tr>\n",
       "      <th>6</th>\n",
       "      <td>How does the GTX 1080 Ti assist with CUDA in c...</td>\n",
       "      <td>[\\n2022/10/14 10:31:20  info unpack layer: sha...</td>\n",
       "      <td>The answer to given question is not present in...</td>\n",
       "      <td>reasoning</td>\n",
       "      <td>[{'filename': 'dataset\\raw_html\\Apptainer.html...</td>\n",
       "      <td>True</td>\n",
       "      <td>The GTX 1080 Ti assists with CUDA in container...</td>\n",
       "      <td>0.0</td>\n",
       "      <td>0.818182</td>\n",
       "      <td>1.000000</td>\n",
       "      <td>1.0</td>\n",
       "    </tr>\n",
       "    <tr>\n",
       "      <th>7</th>\n",
       "      <td>What should a UMIACS password avoid to not mat...</td>\n",
       "      <td>[Accounts\\n\\nFrom UMIACS\\n\\nJump to navigation...</td>\n",
       "      <td>A UMIACS password should not contain (or match...</td>\n",
       "      <td>reasoning</td>\n",
       "      <td>[{'filename': 'dataset\\raw_html\\Accounts.html'...</td>\n",
       "      <td>True</td>\n",
       "      <td>The knowledge base does not provide specific d...</td>\n",
       "      <td>1.0</td>\n",
       "      <td>0.230769</td>\n",
       "      <td>0.000000</td>\n",
       "      <td>1.0</td>\n",
       "    </tr>\n",
       "    <tr>\n",
       "      <th>8</th>\n",
       "      <td>Which flag is key for GPU access in CUDA conta...</td>\n",
       "      <td>[Apptainer\\n\\nFrom UMIACS\\n\\nJump to navigatio...</td>\n",
       "      <td>The answer to given question is not present in...</td>\n",
       "      <td>reasoning</td>\n",
       "      <td>[{'filename': 'dataset\\raw_html\\Apptainer.html...</td>\n",
       "      <td>True</td>\n",
       "      <td>The key flag for accessing GPUs in CUDA contai...</td>\n",
       "      <td>0.0</td>\n",
       "      <td>0.000000</td>\n",
       "      <td>0.971190</td>\n",
       "      <td>1.0</td>\n",
       "    </tr>\n",
       "    <tr>\n",
       "      <th>9</th>\n",
       "      <td>How to install a UMIACS cert in Windows browsers?</td>\n",
       "      <td>[AddingUMIACSCertificateAuthority\\n\\nFrom UMIA...</td>\n",
       "      <td>To install a UMIACS certificate in Windows bro...</td>\n",
       "      <td>reasoning</td>\n",
       "      <td>[{'filename': 'dataset\\raw_html\\AddingUMIACSCe...</td>\n",
       "      <td>True</td>\n",
       "      <td>For most Windows browsers (Chrome, Firefox, Ed...</td>\n",
       "      <td>1.0</td>\n",
       "      <td>1.000000</td>\n",
       "      <td>0.937092</td>\n",
       "      <td>1.0</td>\n",
       "    </tr>\n",
       "  </tbody>\n",
       "</table>\n",
       "</div>"
      ],
      "text/plain": [
       "                                            question  ... context_recall\n",
       "0  What types of images can Apptainer run, and ho...  ...            1.0\n",
       "1  What are the guidelines for installing and lic...  ...            1.0\n",
       "2  What steps should you follow to change your UM...  ...            1.0\n",
       "3  What is the minimum macOS version required to ...  ...            1.0\n",
       "4  What is the purpose of binding the Nexus scrat...  ...            1.0\n",
       "5  Which command allows GPU access for CUDA in co...  ...            1.0\n",
       "6  How does the GTX 1080 Ti assist with CUDA in c...  ...            1.0\n",
       "7  What should a UMIACS password avoid to not mat...  ...            1.0\n",
       "8  Which flag is key for GPU access in CUDA conta...  ...            1.0\n",
       "9  How to install a UMIACS cert in Windows browsers?  ...            1.0\n",
       "\n",
       "[10 rows x 11 columns]"
      ]
     },
     "execution_count": 104,
     "metadata": {},
     "output_type": "execute_result"
    }
   ],
   "source": [
    "resultdf = result.to_pandas()\n",
    "resultdf"
   ]
  },
  {
   "cell_type": "code",
   "execution_count": 114,
   "metadata": {},
   "outputs": [
    {
     "data": {
      "text/html": [
       "<div>\n",
       "<style scoped>\n",
       "    .dataframe tbody tr th:only-of-type {\n",
       "        vertical-align: middle;\n",
       "    }\n",
       "\n",
       "    .dataframe tbody tr th {\n",
       "        vertical-align: top;\n",
       "    }\n",
       "\n",
       "    .dataframe thead th {\n",
       "        text-align: right;\n",
       "    }\n",
       "</style>\n",
       "<table border=\"1\" class=\"dataframe\">\n",
       "  <thead>\n",
       "    <tr style=\"text-align: right;\">\n",
       "      <th></th>\n",
       "      <th>question</th>\n",
       "      <th>contexts</th>\n",
       "      <th>ground_truth</th>\n",
       "      <th>answer</th>\n",
       "      <th>context_precision</th>\n",
       "      <th>faithfulness_with_hhem</th>\n",
       "    </tr>\n",
       "  </thead>\n",
       "  <tbody>\n",
       "    <tr>\n",
       "      <th>0</th>\n",
       "      <td>What types of images can Apptainer run, and how does it relate to Docker images?</td>\n",
       "      <td>[Apptainer\\n\\nFrom UMIACS\\n\\nJump to navigation Jump to search\\n\\nApptainer is a container platform that doesn't elevate the privileges of a user running the container. This is important as UMIACS runs many multi-tenant hosts (such as Nexus ) and doesn't provide administrative control to users on them. While Docker is popular, the most typical setups require a daemon that has administrative level privileges that makes it not tenable.\\n\\nApptainer was previously branded as Singularity. You should still be able to run commands on the system with singularity , however you should start migrating to using the apptainer command.\\n\\nContents\\n\\n1 Overview\\n\\n2 Nexus Containers\\n\\n2.1 Bind Mounts\\n\\n2.2 Shared Containers\\n\\n3 Docker Workflow Example\\n\\nOverview\\n\\nYou can find out what the current version is that we provide by running the apptainer --version command. If this instead says apptainer: command not found and you are using a UMIACS-supported host, please contact staff and we will ensure that the software is available on the host you are looking for it on.\\n\\n# apptainer --version\\r\\napptainer version 1.2.5-1.el8\\r\\n\\nApptainer can run a variety of images including its own format and Docker images . To create images from definition files, you need to have administrative rights. You will need to either use Podman to accomplish this on UMIACS-supported hosts, or alternatively do this on a host that you have full administrative access to (laptop or personal desktop) rather than a UMIACS-supported host.\\n\\nIf you are going to pull large images, you may run out of space in your home directory. We suggest you run the following commands to setup alternate cache and tmp directories. We are using /scratch0 but you can substitute any large enough local scratch directory, network scratch directory, or project directory you would like.\\n\\nexport WORKDIR=/scratch0/$USER\\r\\nexport APPTAINER_CACHEDIR=${WORKDIR}/.cache\\r\\nexport APPTAINER_TMPDIR=${WORKDIR}/.tmp\\r\\nmkdir -p $APPTAINER_CACHEDIR\\r\\nmkdir -p $APPTAINER_TMPDIR\\r\\n\\nWe do suggest you pull images down into an intermediate file ( SIF file) as you then do not have to worry about re-caching the image.\\n\\n$ apptainer pull cuda12.2.2.sif docker://nvidia/cuda:12.2.2-base-ubi8\\r\\nINFO:    Converting OCI blobs to SIF format\\r\\nINFO:    Starting build...\\r\\nGetting image source signatures\\r\\nCopying blob d5d706ce7b29 done\\r\\nCopying blob b4dc78aeafca done\\r\\nCopying blob 24a22c1b7260 done\\r\\nCopying blob 8dea37be3176 done\\r\\nCopying blob 25fa05cd42bd done\\r\\nCopying blob a57130ec8de1 done\\r\\nCopying blob 880a66924cf5 done\\r\\nCopying config db554d658b done\\r\\nWriting manifest to image destination\\r\\nStoring signatures\\r\\n2022/10/14 10:31:17  info unpack layer: sha256:25fa05cd42bd8fabb25d2a6f3f8c9f7ab34637903d00fd2ed1c1d0fa980427dd\\r\\n2022/10/14 10:31:19  info unpack layer: sha256:24a22c1b72605a4dbcec13b743ef60a6cbb43185fe46fd8a35941f9af7c11153\\r\\n2022/10/14 10:31:19  info unpack layer: sha256:8dea37be3176a88fae41c265562d5fb438d9281c356dcb4edeaa51451dbdfdb2\\r\\n2022/10/14 10:31:20  info unpack layer: sha256:b4dc78aeafca6321025300e9d3050c5ba3fb2ac743ae547c6e1efa3f9284ce0b\\r\\n2022/10/14 10:31:20  info unpack layer: sha256:a57130ec8de1e44163e965620d5aed2abe6cddf48b48272964bfd8bca101df38\\r]</td>\n",
       "      <td>Apptainer can run a variety of images including its own format and Docker images.</td>\n",
       "      <td>Apptainer can run a variety of images including its own format (Singularity Image Format or .sif files) and Docker images. This means you can use Apptainer to execute both native Apptainer containers as well as those created with the Docker platform, providing flexibility in container management and execution across different formats.</td>\n",
       "      <td>1.0</td>\n",
       "      <td>0.666667</td>\n",
       "    </tr>\n",
       "    <tr>\n",
       "      <th>1</th>\n",
       "      <td>What are the guidelines for installing and licensing Adobe Creative Cloud products at UMIACS?</td>\n",
       "      <td>[Adobe\\n\\nFrom UMIACS\\n\\nJump to navigation Jump to search\\n\\nAdobe is a software development company most known for their multimedia software products and Flash Player. The commonly deployed Adobe product at UMIACS is the Creative Cloud Suite which contains products such as Acrobat, Photoshop, and more.\\n\\nInstallation and Licensing\\n\\nPlease note that UMD's license only allows for two concurrent logons (on two computing devices) to use any Creative Cloud product. If you are already logged onto two devices and try to log on a third, it will prompt you to confirm that you are OK with being signed out of one or more of the other devices in order to use Creative Cloud products on that new device.\\n\\nUMIACS-supported desktop machines\\n\\nPlease contact staff if you would like one or more Creative Cloud products installed on a supported Windows or macOS desktop machine. Staff will install the Creative Cloud desktop app and the applications that you want.\\n\\nYou will still need to sign in with your UMD account to use the apps the same as how you have to for laptops or other personal machines by following the steps here .\\n\\nAll other machines\\n\\nCreative Cloud products can be installed on laptops or personal machines following the instructions provided by UMD on Terpware for Windows or macOS . Faculty and staff should choose the Faculty and Staff Enterprise for Individuals option.\\n\\nYou will be prompted to sign in when using any Creative Cloud product installed this way. Licensing is handled through your UMD account. Instructions for signing in can be found here .\\n\\nRetrieved from \" https://wiki.umiacs.umd.edu/umiacs/index.php?title=Adobe&amp;oldid=11061 \"\\n\\nNavigation menu\\n\\nThis page was last edited on 3 July 2023, at 23:21.\\n\\nPrivacy policy\\n\\nAbout UMIACS\\n\\nDisclaimers]</td>\n",
       "      <td>The guidelines for installing and licensing Adobe Creative Cloud products at UMIACS include: UMD's license allows for two concurrent logons on two computing devices. If you are logged onto two devices and try to log on a third, you will be prompted to confirm that you are OK with being signed out of one or more of the other devices. For installation on supported Windows or macOS desktop machines, you should contact staff who will install the Creative Cloud desktop app and the applications you want. For laptops or personal machines, Creative Cloud products can be installed by following UMD's instructions on Terpware, and faculty and staff should choose the Faculty and Staff Enterprise for Individuals option. You will need to sign in with your UMD account to use the apps, and licensing is handled through your UMD account.</td>\n",
       "      <td>At UMIACS, the commonly deployed Adobe product is the Creative Cloud Suite which includes applications such as Acrobat and Photoshop. Installation of these products on supported Windows or macOS desktop machines must be requested from staff who will install the Creative Cloud desktop app along with desired applications.\\n\\nFor licensing purposes, it's important to note that University of Maryland (UMD) allows only two concurrent logons for any Adobe product at a time across all computing devices linked to your UMD account. If you attempt to sign in on a third device while already logged into two others, the system will prompt you to confirm signing out from one or more existing sessions.\\n\\nFor laptops and personal machines not managed by UMIACS, users can install Creative Cloud products following instructions provided for Windows or macOS through Terpware. Faculty and staff should select the \"Faculty and Staff Enterprise for Individuals\" option during installation. Users must sign in with their UMD account to use these applications as per standard licensing procedures handled via your institutional credentials.\\n\\nPlease refer to additional documentation linked within this summary for detailed steps on signing into Creative Cloud products post-installation, especially if you are using non-supported machines or systems outside of direct UMIACS management.</td>\n",
       "      <td>1.0</td>\n",
       "      <td>0.875000</td>\n",
       "    </tr>\n",
       "    <tr>\n",
       "      <th>2</th>\n",
       "      <td>What steps should you follow to change your UMIACS account password if you know your current password?</td>\n",
       "      <td>[Accounts\\n\\nFrom UMIACS\\n\\nJump to navigation Jump to search\\n\\nThis page outlines the various account types at UMIACS and their management methods.\\n\\nDo not share any UMIACS-affiliated account for any purpose. Action may be taken against your account if you do so.\\n\\nContents\\n\\n1 UMIACS Account\\n\\n2 Guest / Collaborator Account\\n\\n3 Request a UMIACS account\\n\\n4 Password Requirements\\n\\n5 Changing account password\\n\\n5.1 If you know your current password\\n\\n5.2 If you do not know your current password\\n\\n6 Sponsored Accounts\\n\\n7 All Accounts Related Pages\\n\\nUMIACS Account\\n\\nA full UMIACS account consists of the following components:\\n\\nGuest / Collaborator Account\\n\\nRequest a UMIACS account\\n\\nFill out the account request form located at the UMIACS Account Request webapp . Please note that for the PI field you will be entering your PI/Professor/Sponsor's account name here at UMIACS. Also indicate any labs you are a member of in the notes field to speed up access to your lab's resources.\\n\\nOnce the form is submitted, it will send an email with a link to verify your email address. You must click this link to verify your email address before the system will send email to your PI to review the account request. Accounts can take anywhere from a few hours to a day for installation, depending on how quickly your PI approves your account.\\n\\nPassword Requirements\\n\\nWe have the following policies in regards to our ActiveDirectory passwords:\\n\\nMinimum Password Length : 8 Characters (more is allowed)\\n\\nMinimum Character Classes : 3 Character Classes\\n\\nEnglish uppercase characters (A - Z)\\n\\nEnglish lowercase characters (a - z)\\n\\nBase 10 digits (0 - 9)\\n\\nNon-alphanumeric (For example: !, $, #, or %)\\n\\nUnicode characters\\n\\nPassword cannot contain (or match a substring of 3+ sequential characters) of your username or any part of your first or last name.\\n\\nPassword was not previously used in last 5 passwords.\\n\\nPassword has not been compromised in a known data breach.\\n\\nIt is your responsibility to secure your password. Please choose a strong password, do not use your UMIACS password for any other service, and only connect using secure protocols.\\n\\nUMIACS staff members do not store your password in a retrievable format, so if you forget your password, you must reset it (next section).\\n\\nChanging account password\\n\\nIf you know your current password\\n\\nYou can use the UMIACS Password Web Application to change your password.\\n\\nIf you do not know your current password\\n\\nYou can reset your password yourself if you know your username and have already registered a mobile phone number and alternate E-mail address in our Directory Application .\\n\\nIf your account was a UMIACS Collaborator Account, your password can be reset by your sponsor via our Requests Application .\\n\\nYou can stop by the UMIACS Help Desk in room 3109 Iribe Center with a photo ID.\\n\\nIf you are unable to physically stop by the UMIACS Help Desk, you can have your account sponsor (PI) work with the UMIACS Help Desk to receive a temporary password on your behalf. The account sponsor will then be responsible for conveying the password to you in a secure manner. (e.g., Telephone, where they could identify you by voice)\\n\\nSponsored Accounts\\n\\nYou can view a list of the accounts you sponsor in the UMIACS Account Management Web Application . Clicking on an account's display name will bring you to a management page where you can see details such as the installation date or email forward. From here you can edit your relationship to the account.\\n\\nYou can also request to remove your sponsorship or modify the expiration date, but these require staff action and are not immediate.\\n\\nAll Accounts Related Pages\\n\\nAccounts/Collaborator\\n\\nRetrieved from \" https://wiki.umiacs.umd.edu/umiacs/index.php?title=Accounts&amp;oldid=11512 \"\\n\\nNavigation menu\\n\\nThis page was last edited on 7 January 2024, at 15:04.\\n\\nPrivacy policy\\n\\nAbout UMIACS\\n\\nDisclaimers]</td>\n",
       "      <td>To change your UMIACS account password if you know your current password, you can use the UMIACS Password Web Application.</td>\n",
       "      <td>If you know your current password, you can use the UMIACS Password Web Application to change your password.</td>\n",
       "      <td>1.0</td>\n",
       "      <td>1.000000</td>\n",
       "    </tr>\n",
       "    <tr>\n",
       "      <th>3</th>\n",
       "      <td>What is the minimum macOS version required to use the Ivanti Connect Secure Client for UMIACS VPN?</td>\n",
       "      <td>[Network/VPN/macOS\\n\\nFrom UMIACS\\n\\n(Redirected from (N/A)Network/VPN/OSX )\\n\\nJump to navigation Jump to search\\n\\nThe UMIACS VPN is accessible through the Ivanti Connect Secure Client. Alternatively, you can establish a connection through a web browser , but this may fail if you have an outdated version of Ivanti Connect Secure already installed.\\n\\nContents\\n\\n1 Prerequisites\\n\\n2 Connecting through the Ivanti Connect Secure client\\n\\n3 Checking VPN Status\\n\\n4 Setup Security Requirement (Follow these steps if you encounter an error while connecting through the Ivanti Secure client)\\n\\nPrerequisites\\n\\nmacOS 13.x or higher as of the current version of the Ivanti Connect Secure Client\\n\\nA full UMIACS account\\n\\nDevice enrolled with UMIACS Duo for multi-factor authentication\\n\\nAn established network connection (wired or wireless)\\n\\nConnecting through the Ivanti Connect Secure client\\n\\nDownload the client:\\n\\nOpen the client and click 'Add' (+) under the connection section.\\n\\nIn the 'Name' field, enter a descriptive name for this vpn Connection.\\n\\nIn the 'Server URL' enter 'vpn.umiacs.umd.edu'\\n\\nEnter your UMIACS credentials and hit connect.\\n\\nComplete the MFA Verification Step. For example, if you wish to push a notification to your device, type the word \"push\" into the secondary password box.\\n\\nPro-tip: Select ‘Save Settings’ on the secondary authentication prompt to have Duo automatically use your preferred method.\\n\\nYou should now be connected to the UMIACS VPN. You can close the window and the VPN will remain connected.\\n\\nIf you encounter an error, please refer to the \"Setup Security Requirement\" section bellow.\\n\\nChecking VPN Status\\n\\nIn the top right hand corner, on your status bar, you should see an S icon in a black circle. If there's a green arrow, that means you are connected! If there is nothing, that means you are not.\\n\\nYou can click this icon, as well, and it will show you the status of your connection.\\n\\nIf the icon is not in the status bar, you can find Pulse Secure in your Applications folder. There you will see a list of connections.\\n\\nSetup Security Requirement (Follow these steps if you encounter an error while connecting through the Ivanti Secure client)\\n\\nClick the Apple logo at the top left of your desktop\\n\\nClick System Settings\\n\\nClick Privacy &amp; Security\\n\\nScroll to the Security section and select App Store and identified developers\\n\\nYou will have to enter your credentials\\n\\nClick Next to the message \"System Software From Developers \"Pulse Secure LLC\" was blocked from loading\" if prompted.\\n\\nClick Allow to enable the extension.\\n\\nClose the System Settings window.\\n\\nRetrieved from \" https://wiki.umiacs.umd.edu/umiacs/index.php?title=Network/VPN/macOS&amp;oldid=12018 \"\\n\\nNavigation menu\\n\\nThis page was last edited on 12 September 2024, at 15:27.\\n\\nPrivacy policy\\n\\nAbout UMIACS\\n\\nDisclaimers]</td>\n",
       "      <td>The minimum macOS version required to use the Ivanti Connect Secure Client for UMIACS VPN is macOS 13.x or higher.</td>\n",
       "      <td>The minimum macOS version required to use the Ivanti Connect Secure Client for UMIACS VPN is macOS 13.x or higher, as of the current version of the Ivanti Connect Secure Client.</td>\n",
       "      <td>1.0</td>\n",
       "      <td>1.000000</td>\n",
       "    </tr>\n",
       "    <tr>\n",
       "      <th>4</th>\n",
       "      <td>What is the purpose of binding the Nexus scratch directory in Apptainer containers?</td>\n",
       "      <td>[^3\\r\\n\\nBind Mounts\\n\\nTo get data into the container you need to pass some bind mounts . Apptainer containers will not automatically mount data from the outside operating system other than your home directory. Users need to manually bind mounts for other file paths.\\n\\n--bind /fs/nexus-scratch/&lt;USERNAME&gt;/&lt;PROJECTNAME&gt;:/mnt\\n\\nIn this example, we will exec an interactive session with GPUs and binding our Nexus scratch directory which allows us to specify the command we want to run inside the container.\\n\\napptainer exec --nv --bind /fs/nexus-scratch/username:/fs/nexus-scratch/username /fs/nexus-containers/pytorch/pytorch_1.13.0+cu117.sif bash\\r\\n\\nYou can now write/run your own pytorch python code interactively within the container or just make a python script that you can call directly from the apptainer exec command for batch processing.\\n\\nShared Containers\\n\\nPortable images called Singularity Image Format or .sif files can be copied and shared. Nexus maintains some shared containers in /fs/nexus-containers . These are arranged by the application(s) that are installed.\\n\\nDocker Workflow Example\\n\\nWe have a pytorch_docker example workflow using our GitLab as a Docker registry. You can clone the repository and further customize this to your needs. The workflow is:\\n\\nRun Docker on a laptop or personal desktop on to create the image, or use Podman on a UMIACS-supported system.\\n\\nTag the image and and push it to your repository (this can be any docker registry)\\n\\nPull the image down onto one of our workstations/clusters and run it with your data.\\n\\n$ apptainer pull pytorch_docker.sif docker://registry.umiacs.umd.edu/derek/pytorch_docker\\r\\nINFO:    Converting OCI blobs to SIF format\\r\\nINFO:    Starting build...\\r\\nGetting image source signatures\\r\\nCopying blob 85386706b020 done\\r\\n...\\r\\n2022/10/14 10:58:36  info unpack layer: sha256:b6f46848806c8750a68edc4463bf146ed6c3c4af18f5d3f23281dcdfb1c65055\\r\\n2022/10/14 10:58:43  info unpack layer: sha256:44845dc671f759820baac0376198141ca683f554bb16a177a3cfe262c9e368ff\\r\\nINFO:    Creating SIF file...\\r\\n\\n$ apptainer exec --nv pytorch_docker.sif python3 -c 'from __future__ import print_function; import torch; print(torch.cuda.current_device()); x = torch.rand(5, 3); print(x)'\\r\\n0\\r\\ntensor([[0.3273, 0.7174, 0.3587],\\r\\n        [0.2250, 0.3896, 0.4136],\\r\\n        [0.3626, 0.0383, 0.6274],\\r\\n        [0.6241, 0.8079, 0.2950],\\r\\n        [0.0804, 0.9705, 0.0030]])\\r\\n\\nRetrieved from \" https://wiki.umiacs.umd.edu/umiacs/index.php?title=Apptainer&amp;oldid=11997 \"\\n\\nNavigation menu\\n\\nThis page was last edited on 13 August 2024, at 17:51.\\n\\nPrivacy policy\\n\\nAbout UMIACS\\n\\nDisclaimers]</td>\n",
       "      <td>The purpose of binding the Nexus scratch directory in Apptainer containers is to allow users to specify the command they want to run inside the container while providing access to their data stored in that directory.</td>\n",
       "      <td>To get data into the Apptainer container, you need to pass some bind mounts because Apptainer containers do not automatically mount data from the outside operating system other than your home directory. Users must manually bind mounts for other file paths such as their Nexus scratch directories. This allows users to access and use files stored in these directories within the container environment.\\n\\nFor example:\\n```\\napptainer exec --nv --bind /fs/nexus-scratch/username:/fs/nexus-scratch/username /fs/nexus-containers/pytorch/pytorch_1.13.0+cu117.sif bash\\n```</td>\n",
       "      <td>1.0</td>\n",
       "      <td>1.000000</td>\n",
       "    </tr>\n",
       "    <tr>\n",
       "      <th>5</th>\n",
       "      <td>Which command allows GPU access for CUDA in containers?</td>\n",
       "      <td>[\\n2022/10/14 10:31:20  info unpack layer: sha256:d5d706ce7b293ffb369d3bf0e3f58f959977903b82eb26433fe58645f79b778b\\r\\n2022/10/14 10:31:49  info unpack layer: sha256:880a66924cf5e11df601a4f531f3741c6867a3e05238bc9b7cebb2a68d479204\\r\\nINFO:    Creating SIF file...\\r\\n\\n$ apptainer inspect cuda12.2.2.sif\\r\\n...\\r\\nmaintainer: NVIDIA CORPORATION &lt;sw-cuda-installer@nvidia.com&gt;\\r\\nname: ubi8\\r\\norg.label-schema.build-arch: amd64\\r\\norg.label-schema.build-date: Wednesday_24_January_2024_13:53:0_EST\\r\\norg.label-schema.schema-version: 1.0\\r\\norg.label-schema.usage.apptainer.version: 1.2.5-1.el8\\r\\norg.label-schema.usage.singularity.deffile.bootstrap: docker\\r\\norg.label-schema.usage.singularity.deffile.from: nvidia/cuda:12.2.2-base-ubi8\\r\\n...\\r\\n\\nNow you can run the local image with the run command or start a shell with the shell command.\\n\\nPlease note that if you are in an environment with GPUs and you want to access them inside the container you need to specify the --nv flag. Nvidia has a very specific driver and libraries that are required to run CUDA programs, so this is to ensure that all appropriate devices are created inside the container and that these libraries are made available in the container .\\n\\n$ apptainer run --nv cuda12.2.2.sif nvidia-smi -L\\r\\nGPU 0: NVIDIA GeForce GTX 1080 Ti (UUID: GPU-8e040d17-402e-cc86-4e83-eb2b1d501f1e)\\r\\nGPU 1: NVIDIA GeForce GTX 1080 Ti (UUID: GPU-d681a21a-8cdd-e624-6bf8-5b0234584ba2)\\r\\n\\nNexus Containers\\n\\nIn our Nexus environment we have some example containers based on our pytorch_docker project. These can be found in /fs/nexus-containers/pytorch .\\n\\nYou can just run one of the example images by doing the following (you should have already allocated a interactive job with a GPU in Nexus ). It will use the default script found at /srv/tensor.py within the image.\\n\\n$ hostname &amp;&amp; nvidia-smi -L\\r\\ntron38.umiacs.umd.edu\\r\\nGPU 0: NVIDIA RTX A4000 (UUID: GPU-4a0a5644-9fc8-84b4-5d22-65d45ca36506)\\r\\n\\n$ apptainer run --nv /fs/nexus-containers/pytorch/pytorch_1.13.0+cu117.sif\\r\\n99 984.5538940429688\\r\\n199 654.1710815429688\\r\\n299 435.662353515625\\r\\n399 291.1429138183594\\r\\n499 195.5575714111328\\r\\n599 132.3363037109375\\r\\n699 90.5206069946289\\r\\n799 62.86213684082031\\r\\n899 44.56754684448242\\r\\n999 32.466392517089844\\r\\n1099 24.461835861206055\\r\\n1199 19.166893005371094\\r\\n1299 15.6642427444458\\r\\n1399 13.347112655639648\\r\\n1499 11.814264297485352\\r\\n1599 10.800163269042969\\r\\n1699 10.129261016845703\\r\\n1799 9.685370445251465\\r\\n1899 9.391674041748047\\r\\n1999 9.19735336303711\\r\\nResult: y = 0.0022362577728927135 + 0.837898313999176 x + -0.0003857926349155605 x^2 + -0.09065020829439163 x]</td>\n",
       "      <td>The command that allows GPU access for CUDA in containers is 'apptainer run --nv'.</td>\n",
       "      <td>The command that allows GPU access for CUDA in containers is `apptainer run --nv` or `apptainer exec --nv`. The `--nv` flag ensures that all appropriate devices are created inside the container and that Nvidia's specific driver and libraries required to run CUDA programs are made available.</td>\n",
       "      <td>1.0</td>\n",
       "      <td>0.500000</td>\n",
       "    </tr>\n",
       "    <tr>\n",
       "      <th>6</th>\n",
       "      <td>How does the GTX 1080 Ti assist with CUDA in containers?</td>\n",
       "      <td>[\\n2022/10/14 10:31:20  info unpack layer: sha256:d5d706ce7b293ffb369d3bf0e3f58f959977903b82eb26433fe58645f79b778b\\r\\n2022/10/14 10:31:49  info unpack layer: sha256:880a66924cf5e11df601a4f531f3741c6867a3e05238bc9b7cebb2a68d479204\\r\\nINFO:    Creating SIF file...\\r\\n\\n$ apptainer inspect cuda12.2.2.sif\\r\\n...\\r\\nmaintainer: NVIDIA CORPORATION &lt;sw-cuda-installer@nvidia.com&gt;\\r\\nname: ubi8\\r\\norg.label-schema.build-arch: amd64\\r\\norg.label-schema.build-date: Wednesday_24_January_2024_13:53:0_EST\\r\\norg.label-schema.schema-version: 1.0\\r\\norg.label-schema.usage.apptainer.version: 1.2.5-1.el8\\r\\norg.label-schema.usage.singularity.deffile.bootstrap: docker\\r\\norg.label-schema.usage.singularity.deffile.from: nvidia/cuda:12.2.2-base-ubi8\\r\\n...\\r\\n\\nNow you can run the local image with the run command or start a shell with the shell command.\\n\\nPlease note that if you are in an environment with GPUs and you want to access them inside the container you need to specify the --nv flag. Nvidia has a very specific driver and libraries that are required to run CUDA programs, so this is to ensure that all appropriate devices are created inside the container and that these libraries are made available in the container .\\n\\n$ apptainer run --nv cuda12.2.2.sif nvidia-smi -L\\r\\nGPU 0: NVIDIA GeForce GTX 1080 Ti (UUID: GPU-8e040d17-402e-cc86-4e83-eb2b1d501f1e)\\r\\nGPU 1: NVIDIA GeForce GTX 1080 Ti (UUID: GPU-d681a21a-8cdd-e624-6bf8-5b0234584ba2)\\r\\n\\nNexus Containers\\n\\nIn our Nexus environment we have some example containers based on our pytorch_docker project. These can be found in /fs/nexus-containers/pytorch .\\n\\nYou can just run one of the example images by doing the following (you should have already allocated a interactive job with a GPU in Nexus ). It will use the default script found at /srv/tensor.py within the image.\\n\\n$ hostname &amp;&amp; nvidia-smi -L\\r\\ntron38.umiacs.umd.edu\\r\\nGPU 0: NVIDIA RTX A4000 (UUID: GPU-4a0a5644-9fc8-84b4-5d22-65d45ca36506)\\r\\n\\n$ apptainer run --nv /fs/nexus-containers/pytorch/pytorch_1.13.0+cu117.sif\\r\\n99 984.5538940429688\\r\\n199 654.1710815429688\\r\\n299 435.662353515625\\r\\n399 291.1429138183594\\r\\n499 195.5575714111328\\r\\n599 132.3363037109375\\r\\n699 90.5206069946289\\r\\n799 62.86213684082031\\r\\n899 44.56754684448242\\r\\n999 32.466392517089844\\r\\n1099 24.461835861206055\\r\\n1199 19.166893005371094\\r\\n1299 15.6642427444458\\r\\n1399 13.347112655639648\\r\\n1499 11.814264297485352\\r\\n1599 10.800163269042969\\r\\n1699 10.129261016845703\\r\\n1799 9.685370445251465\\r\\n1899 9.391674041748047\\r\\n1999 9.19735336303711\\r\\nResult: y = 0.0022362577728927135 + 0.837898313999176 x + -0.0003857926349155605 x^2 + -0.09065020829439163 x]</td>\n",
       "      <td>The answer to given question is not present in context</td>\n",
       "      <td>The GTX 1080 Ti assists with CUDA in containers by providing GPU acceleration when specified correctly through container commands like Apptainer or Podman. To access GPUs inside a container, you need to use specific flags such as `--nv` for Apptainer and ensure that the necessary NVIDIA drivers and libraries are available within the container environment.\\n\\nFor example:\\n- Using Apptainer: `$ apptainer run --nv cuda12.2.2.sif nvidia-smi -L`\\n  This command lists GPU devices inside a container, showing two GTX 1080 Ti GPUs with their respective UUIDs.\\n  \\n- Using Podman: `$ podman run --volume `pwd`/test:/mnt --hooks-dir=/usr/share/containers/oci/hooks.d gpudocker python3 /mnt/test_torch.py`\\n  This command runs a Python script that uses CUDA, and it detects the GTX 1080 Ti GPU inside the container.\\n\\nThe knowledge base indicates that when running containers with GPUs in environments like Vulcan compute nodes or local systems, specifying these flags ensures proper device creation and library availability for executing CUDA programs effectively.</td>\n",
       "      <td>0.0</td>\n",
       "      <td>0.818182</td>\n",
       "    </tr>\n",
       "    <tr>\n",
       "      <th>7</th>\n",
       "      <td>What should a UMIACS password avoid to not match your name?</td>\n",
       "      <td>[Accounts\\n\\nFrom UMIACS\\n\\nJump to navigation Jump to search\\n\\nThis page outlines the various account types at UMIACS and their management methods.\\n\\nDo not share any UMIACS-affiliated account for any purpose. Action may be taken against your account if you do so.\\n\\nContents\\n\\n1 UMIACS Account\\n\\n2 Guest / Collaborator Account\\n\\n3 Request a UMIACS account\\n\\n4 Password Requirements\\n\\n5 Changing account password\\n\\n5.1 If you know your current password\\n\\n5.2 If you do not know your current password\\n\\n6 Sponsored Accounts\\n\\n7 All Accounts Related Pages\\n\\nUMIACS Account\\n\\nA full UMIACS account consists of the following components:\\n\\nGuest / Collaborator Account\\n\\nRequest a UMIACS account\\n\\nFill out the account request form located at the UMIACS Account Request webapp . Please note that for the PI field you will be entering your PI/Professor/Sponsor's account name here at UMIACS. Also indicate any labs you are a member of in the notes field to speed up access to your lab's resources.\\n\\nOnce the form is submitted, it will send an email with a link to verify your email address. You must click this link to verify your email address before the system will send email to your PI to review the account request. Accounts can take anywhere from a few hours to a day for installation, depending on how quickly your PI approves your account.\\n\\nPassword Requirements\\n\\nWe have the following policies in regards to our ActiveDirectory passwords:\\n\\nMinimum Password Length : 8 Characters (more is allowed)\\n\\nMinimum Character Classes : 3 Character Classes\\n\\nEnglish uppercase characters (A - Z)\\n\\nEnglish lowercase characters (a - z)\\n\\nBase 10 digits (0 - 9)\\n\\nNon-alphanumeric (For example: !, $, #, or %)\\n\\nUnicode characters\\n\\nPassword cannot contain (or match a substring of 3+ sequential characters) of your username or any part of your first or last name.\\n\\nPassword was not previously used in last 5 passwords.\\n\\nPassword has not been compromised in a known data breach.\\n\\nIt is your responsibility to secure your password. Please choose a strong password, do not use your UMIACS password for any other service, and only connect using secure protocols.\\n\\nUMIACS staff members do not store your password in a retrievable format, so if you forget your password, you must reset it (next section).\\n\\nChanging account password\\n\\nIf you know your current password\\n\\nYou can use the UMIACS Password Web Application to change your password.\\n\\nIf you do not know your current password\\n\\nYou can reset your password yourself if you know your username and have already registered a mobile phone number and alternate E-mail address in our Directory Application .\\n\\nIf your account was a UMIACS Collaborator Account, your password can be reset by your sponsor via our Requests Application .\\n\\nYou can stop by the UMIACS Help Desk in room 3109 Iribe Center with a photo ID.\\n\\nIf you are unable to physically stop by the UMIACS Help Desk, you can have your account sponsor (PI) work with the UMIACS Help Desk to receive a temporary password on your behalf. The account sponsor will then be responsible for conveying the password to you in a secure manner. (e.g., Telephone, where they could identify you by voice)\\n\\nSponsored Accounts\\n\\nYou can view a list of the accounts you sponsor in the UMIACS Account Management Web Application . Clicking on an account's display name will bring you to a management page where you can see details such as the installation date or email forward. From here you can edit your relationship to the account.\\n\\nYou can also request to remove your sponsorship or modify the expiration date, but these require staff action and are not immediate.\\n\\nAll Accounts Related Pages\\n\\nAccounts/Collaborator\\n\\nRetrieved from \" https://wiki.umiacs.umd.edu/umiacs/index.php?title=Accounts&amp;oldid=11512 \"\\n\\nNavigation menu\\n\\nThis page was last edited on 7 January 2024, at 15:04.\\n\\nPrivacy policy\\n\\nAbout UMIACS\\n\\nDisclaimers]</td>\n",
       "      <td>A UMIACS password should not contain (or match a substring of 3+ sequential characters) of your username or any part of your first or last name.</td>\n",
       "      <td>The knowledge base does not provide specific details on avoiding names when creating a UMIACS password, but it mentions that UMIAcs passwords follow best practices recommended by NIST and will not allow the use of compromised or breached passwords. This includes any commonly used patterns such as personal information like your name to ensure security standards are met.\\n\\nHowever, based on general cybersecurity guidelines aligned with these principles, a UMIACS password should avoid using:\\n\\n- Your full name\\n- Any part of your username\\n- Birthdates and other personally identifiable information\\n\\nTo be precise about avoiding names specifically:\\nUMIACS passwords must not match or closely resemble the user's name to prevent easy guessing by attackers. This aligns with broader security recommendations but is explicitly stated in terms of compromised password avoidance rather than a direct rule against using your name.\\n\\nThe answer you are looking for is not found in the knowledge base regarding specific rules about avoiding names, beyond adhering to guidelines that discourage use of personal information including one's own name due to risk factors associated with breached passwords.</td>\n",
       "      <td>1.0</td>\n",
       "      <td>0.230769</td>\n",
       "    </tr>\n",
       "    <tr>\n",
       "      <th>8</th>\n",
       "      <td>Which flag is key for GPU access in CUDA containers?</td>\n",
       "      <td>[Apptainer\\n\\nFrom UMIACS\\n\\nJump to navigation Jump to search\\n\\nApptainer is a container platform that doesn't elevate the privileges of a user running the container. This is important as UMIACS runs many multi-tenant hosts (such as Nexus ) and doesn't provide administrative control to users on them. While Docker is popular, the most typical setups require a daemon that has administrative level privileges that makes it not tenable.\\n\\nApptainer was previously branded as Singularity. You should still be able to run commands on the system with singularity , however you should start migrating to using the apptainer command.\\n\\nContents\\n\\n1 Overview\\n\\n2 Nexus Containers\\n\\n2.1 Bind Mounts\\n\\n2.2 Shared Containers\\n\\n3 Docker Workflow Example\\n\\nOverview\\n\\nYou can find out what the current version is that we provide by running the apptainer --version command. If this instead says apptainer: command not found and you are using a UMIACS-supported host, please contact staff and we will ensure that the software is available on the host you are looking for it on.\\n\\n# apptainer --version\\r\\napptainer version 1.2.5-1.el8\\r\\n\\nApptainer can run a variety of images including its own format and Docker images . To create images from definition files, you need to have administrative rights. You will need to either use Podman to accomplish this on UMIACS-supported hosts, or alternatively do this on a host that you have full administrative access to (laptop or personal desktop) rather than a UMIACS-supported host.\\n\\nIf you are going to pull large images, you may run out of space in your home directory. We suggest you run the following commands to setup alternate cache and tmp directories. We are using /scratch0 but you can substitute any large enough local scratch directory, network scratch directory, or project directory you would like.\\n\\nexport WORKDIR=/scratch0/$USER\\r\\nexport APPTAINER_CACHEDIR=${WORKDIR}/.cache\\r\\nexport APPTAINER_TMPDIR=${WORKDIR}/.tmp\\r\\nmkdir -p $APPTAINER_CACHEDIR\\r\\nmkdir -p $APPTAINER_TMPDIR\\r\\n\\nWe do suggest you pull images down into an intermediate file ( SIF file) as you then do not have to worry about re-caching the image.\\n\\n$ apptainer pull cuda12.2.2.sif docker://nvidia/cuda:12.2.2-base-ubi8\\r\\nINFO:    Converting OCI blobs to SIF format\\r\\nINFO:    Starting build...\\r\\nGetting image source signatures\\r\\nCopying blob d5d706ce7b29 done\\r\\nCopying blob b4dc78aeafca done\\r\\nCopying blob 24a22c1b7260 done\\r\\nCopying blob 8dea37be3176 done\\r\\nCopying blob 25fa05cd42bd done\\r\\nCopying blob a57130ec8de1 done\\r\\nCopying blob 880a66924cf5 done\\r\\nCopying config db554d658b done\\r\\nWriting manifest to image destination\\r\\nStoring signatures\\r\\n2022/10/14 10:31:17  info unpack layer: sha256:25fa05cd42bd8fabb25d2a6f3f8c9f7ab34637903d00fd2ed1c1d0fa980427dd\\r\\n2022/10/14 10:31:19  info unpack layer: sha256:24a22c1b72605a4dbcec13b743ef60a6cbb43185fe46fd8a35941f9af7c11153\\r\\n2022/10/14 10:31:19  info unpack layer: sha256:8dea37be3176a88fae41c265562d5fb438d9281c356dcb4edeaa51451dbdfdb2\\r\\n2022/10/14 10:31:20  info unpack layer: sha256:b4dc78aeafca6321025300e9d3050c5ba3fb2ac743ae547c6e1efa3f9284ce0b\\r\\n2022/10/14 10:31:20  info unpack layer: sha256:a57130ec8de1e44163e965620d5aed2abe6cddf48b48272964bfd8bca101df38\\r]</td>\n",
       "      <td>The answer to given question is not present in context</td>\n",
       "      <td>The key flag for accessing GPUs in CUDA containers is `--nv`. This ensures that all appropriate devices are created inside the container and that Nvidia's specific driver and libraries required to run CUDA programs are made available. For example, you would use it like this: `$ apptainer run --nv cuda12.2.2.sif nvidia-smi -L`</td>\n",
       "      <td>0.0</td>\n",
       "      <td>0.000000</td>\n",
       "    </tr>\n",
       "    <tr>\n",
       "      <th>9</th>\n",
       "      <td>How to install a UMIACS cert in Windows browsers?</td>\n",
       "      <td>[AddingUMIACSCertificateAuthority\\n\\nFrom UMIACS\\n\\nJump to navigation Jump to search\\n\\nContents\\n\\n1 Introduction\\n\\n2 Windows\\n\\n3 Safari and Google Chrome (macOS)\\n\\n4 Other Browsers (Unix)\\n\\nIntroduction\\n\\nWhen you visit webpages encrypted with SSL, you may be presented with a warning about the site's security certificate not being trusted. These are normally important screens to pay attention to on the internet as a whole and UMIACS goes to great lengths to maintain a secure environment for our users. However, it is not cost effective to provide commercial certs for all our public facing certificates. In order to keep costs down we provide a UMIACS CA (certificate authority) that enables your web browser to trust our secure webpages. The following steps explain how to import this certificate based on your preferred web browser.\\n\\nWindows\\n\\nFor most Windows browsers (Chrome, Firefox, Edge and Internet Explorer), certificate authorities are handled by Windows itself. These are the steps required to accept the certificate:\\n\\nClick UMIACS Certificate Authority to download the file.\\n\\nOpen the file and click \"Install Certificate\".\\n\\nIn the dialog box opened, click \"Next\".\\n\\nChoose \"Place all certificates in the following store\".\\n\\nChoose \"Browse\", in the dialog box opened, Choose \"Trusted Root Certification Authorities\" and click \"Ok\".\\n\\nClick \"Next\" and then \"Finish\".\\n\\nIf you get a Security Warning asking if you want to install this certificate, click \"Yes\".\\n\\nYou should receive a success message similar to the following:\\n\\nYou may need to restart your browser for the change to take effect.\\n\\nSafari and Google Chrome (macOS)\\n\\nFor most macOS browsers (excluding Firefox), certificate authorities are handled by macOS itself. This process requires administrator access. If you do not have administrator access and you are using a UMIACS-supported Mac, please contact Staff . Otherwise, here are the steps required to accept the certificate:\\n\\nClick UMIACS Certificate Authority to download the file.\\n\\nOpen Keychain Access (Located in the Others group in Launchpad)\\n\\nGo to the Systems &gt; Certificates\\n\\nOpen the UMIACS Certificate Authority file by double-clicking it (should be located in your downloads folder).\\n\\nEnter your administrator password or use your fingerprint on the dialog box that appears.\\n\\nRight-click the certificate that was just added and select the \"Get Info\" section.\\n\\nSelect \"Always Trust\" option in the \"When using this certificate\" dropdown (\"Trust\" &gt; \"When using this certificate\" &gt; \"Always Trust\")\\n\\nClose the certificate and keychain access window.\\n\\nEnter the administrator credentials to add this certificate for all users of the system\\n\\nYou may need to restart your browser for the change to take effect.\\n\\nOther Browsers (Unix)\\n\\nIf you are using a browser other than Firefox in Unix, the process is more complicated than the above methods and may depend on your particular Unix distribution. If you need assistance with this please contact UMIACS Staff .\\n\\nRetrieved from \" https://wiki.umiacs.umd.edu/umiacs/index.php?title=AddingUMIACSCertificateAuthority&amp;oldid=11521 \"\\n\\nNavigation menu\\n\\nThis page was last edited on 8 January 2024, at 15:57.\\n\\nPrivacy policy\\n\\nAbout UMIACS\\n\\nDisclaimers]</td>\n",
       "      <td>To install a UMIACS certificate in Windows browsers (Chrome, Firefox, Edge, and Internet Explorer), follow these steps: 1. Click UMIACS Certificate Authority to download the file. 2. Open the file and click 'Install Certificate'. 3. In the dialog box opened, click 'Next'. 4. Choose 'Place all certificates in the following store'. 5. Choose 'Browse', in the dialog box opened, choose 'Trusted Root Certification Authorities' and click 'Ok'. 6. Click 'Next' and then 'Finish'. 7. If you get a Security Warning asking if you want to install this certificate, click 'Yes'. 8. You should receive a success message. You may need to restart your browser for the change to take effect.</td>\n",
       "      <td>For most Windows browsers (Chrome, Firefox, Edge and Internet Explorer), certificate authorities are handled by Windows itself. These are the steps required to accept the UMIACS certificate:\\n\\n1. Click \"UMIACS Certificate Authority\" to download the file.\\n2. Open the downloaded file and click \"Install Certificate\".\\n3. In the dialog box that opens, click \"Next\".\\n4. Choose \"Place all certificates in the following store\".\\n5. Select \"Browse\", choose \"Trusted Root Certification Authorities\", then click \"Ok\".\\n6. Click \"Next\" followed by \"Finish\".\\n\\nIf a Security Warning appears asking if you want to install this certificate, confirm it with a click on \"Yes\". You should receive a success message similar to the following:\\n\\n\"The import was successful.\"</td>\n",
       "      <td>1.0</td>\n",
       "      <td>1.000000</td>\n",
       "    </tr>\n",
       "  </tbody>\n",
       "</table>\n",
       "</div>"
      ],
      "text/plain": [
       "                                                                                                 question  ... faithfulness_with_hhem\n",
       "0                        What types of images can Apptainer run, and how does it relate to Docker images?  ...               0.666667\n",
       "1           What are the guidelines for installing and licensing Adobe Creative Cloud products at UMIACS?  ...               0.875000\n",
       "2  What steps should you follow to change your UMIACS account password if you know your current password?  ...               1.000000\n",
       "3      What is the minimum macOS version required to use the Ivanti Connect Secure Client for UMIACS VPN?  ...               1.000000\n",
       "4                     What is the purpose of binding the Nexus scratch directory in Apptainer containers?  ...               1.000000\n",
       "5                                                 Which command allows GPU access for CUDA in containers?  ...               0.500000\n",
       "6                                                How does the GTX 1080 Ti assist with CUDA in containers?  ...               0.818182\n",
       "7                                             What should a UMIACS password avoid to not match your name?  ...               0.230769\n",
       "8                                                    Which flag is key for GPU access in CUDA containers?  ...               0.000000\n",
       "9                                                       How to install a UMIACS cert in Windows browsers?  ...               1.000000\n",
       "\n",
       "[10 rows x 6 columns]"
      ]
     },
     "execution_count": 114,
     "metadata": {},
     "output_type": "execute_result"
    }
   ],
   "source": [
    "resultdf[[\"question\", \"contexts\", \"ground_truth\", \"answer\", \"context_precision\", \"faithfulness_with_hhem\"]]"
   ]
  },
  {
   "cell_type": "code",
   "execution_count": 109,
   "metadata": {},
   "outputs": [],
   "source": [
    "import pandas as pd"
   ]
  },
  {
   "cell_type": "code",
   "execution_count": 110,
   "metadata": {},
   "outputs": [],
   "source": [
    "pd.set_option('display.max_colwidth', None)"
   ]
  },
  {
   "cell_type": "code",
   "execution_count": 111,
   "metadata": {},
   "outputs": [
    {
     "data": {
      "text/plain": [
       "question                                                                                                                                                                                                                                                                                                                                                                                                                                                                                                                                                                                                                                                                                                                                                                                                                                                                                                                                                                                                                                                      How does the GTX 1080 Ti assist with CUDA in containers?\n",
       "ground_truth                                                                                                                                                                                                                                                                                                                                                                                                                                                                                                                                                                                                                                                                                                                                                                                                                                                                                                                                                                                                                                                    The answer to given question is not present in context\n",
       "answer          The GTX 1080 Ti assists with CUDA in containers by providing GPU acceleration when specified correctly through container commands like Apptainer or Podman. To access GPUs inside a container, you need to use specific flags such as `--nv` for Apptainer and ensure that the necessary NVIDIA drivers and libraries are available within the container environment.\\n\\nFor example:\\n- Using Apptainer: `$ apptainer run --nv cuda12.2.2.sif nvidia-smi -L`\\n  This command lists GPU devices inside a container, showing two GTX 1080 Ti GPUs with their respective UUIDs.\\n  \\n- Using Podman: `$ podman run --volume `pwd`/test:/mnt --hooks-dir=/usr/share/containers/oci/hooks.d gpudocker python3 /mnt/test_torch.py`\\n  This command runs a Python script that uses CUDA, and it detects the GTX 1080 Ti GPU inside the container.\\n\\nThe knowledge base indicates that when running containers with GPUs in environments like Vulcan compute nodes or local systems, specifying these flags ensures proper device creation and library availability for executing CUDA programs effectively.\n",
       "Name: 6, dtype: object"
      ]
     },
     "execution_count": 111,
     "metadata": {},
     "output_type": "execute_result"
    }
   ],
   "source": [
    "resultdf.iloc[6][[\"question\", \"ground_truth\", \"answer\"]]"
   ]
  },
  {
   "cell_type": "markdown",
   "metadata": {},
   "source": [
    "the automatically generated questions and answers suck (even tho they use chatgpt's good models + ragas even uses 2 models to generate and verify them)\n",
    "it also took like 150k tokens (???) to generate these 10 questions. over 1 cent per question omg.\n",
    "\n",
    "I have no idea how useful the metrics are cuz their questions and answers suck, and I didn't try many."
   ]
  }
 ],
 "metadata": {
  "kernelspec": {
   "display_name": "base",
   "language": "python",
   "name": "python3"
  },
  "language_info": {
   "codemirror_mode": {
    "name": "ipython",
    "version": 3
   },
   "file_extension": ".py",
   "mimetype": "text/x-python",
   "name": "python",
   "nbconvert_exporter": "python",
   "pygments_lexer": "ipython3",
   "version": "3.10.14"
  }
 },
 "nbformat": 4,
 "nbformat_minor": 2
}
