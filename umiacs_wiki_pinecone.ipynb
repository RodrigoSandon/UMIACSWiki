{
  "cells": [
    {
      "cell_type": "markdown",
      "metadata": {
        "id": "c8Zlkrq7ZUf0"
      },
      "source": [
        "## Set up your environment\n",
        "\n",
        "Install the LangChain libraries required for this notebook:"
      ]
    },
    {
      "cell_type": "code",
      "execution_count": 2,
      "metadata": {
        "colab": {
          "base_uri": "https://localhost:8080/"
        },
        "id": "J4Me_JEx9Wj9",
        "outputId": "aba3030e-bdc5-400e-b834-851f4f5fdb27"
      },
      "outputs": [
        {
          "output_type": "stream",
          "name": "stdout",
          "text": [
            "\u001b[2K     \u001b[90m━━━━━━━━━━━━━━━━━━━━━━━━━━━━━━━━━━━━━━━━\u001b[0m \u001b[32m50.4/50.4 kB\u001b[0m \u001b[31m3.5 MB/s\u001b[0m eta \u001b[36m0:00:00\u001b[0m\n",
            "\u001b[2K   \u001b[90m━━━━━━━━━━━━━━━━━━━━━━━━━━━━━━━━━━━━━━━━\u001b[0m \u001b[32m973.5/973.5 kB\u001b[0m \u001b[31m26.1 MB/s\u001b[0m eta \u001b[36m0:00:00\u001b[0m\n",
            "\u001b[2K   \u001b[90m━━━━━━━━━━━━━━━━━━━━━━━━━━━━━━━━━━━━━━━━\u001b[0m \u001b[32m397.0/397.0 kB\u001b[0m \u001b[31m21.7 MB/s\u001b[0m eta \u001b[36m0:00:00\u001b[0m\n",
            "\u001b[2K   \u001b[90m━━━━━━━━━━━━━━━━━━━━━━━━━━━━━━━━━━━━━━━━\u001b[0m \u001b[32m294.6/294.6 kB\u001b[0m \u001b[31m14.9 MB/s\u001b[0m eta \u001b[36m0:00:00\u001b[0m\n",
            "\u001b[2K   \u001b[90m━━━━━━━━━━━━━━━━━━━━━━━━━━━━━━━━━━━━━━━━\u001b[0m \u001b[32m383.5/383.5 kB\u001b[0m \u001b[31m19.7 MB/s\u001b[0m eta \u001b[36m0:00:00\u001b[0m\n",
            "\u001b[2K   \u001b[90m━━━━━━━━━━━━━━━━━━━━━━━━━━━━━━━━━━━━━━━━\u001b[0m \u001b[32m244.8/244.8 kB\u001b[0m \u001b[31m16.8 MB/s\u001b[0m eta \u001b[36m0:00:00\u001b[0m\n",
            "\u001b[2K   \u001b[90m━━━━━━━━━━━━━━━━━━━━━━━━━━━━━━━━━━━━━━━━\u001b[0m \u001b[32m1.2/1.2 MB\u001b[0m \u001b[31m30.7 MB/s\u001b[0m eta \u001b[36m0:00:00\u001b[0m\n",
            "\u001b[2K   \u001b[90m━━━━━━━━━━━━━━━━━━━━━━━━━━━━━━━━━━━━━━━━\u001b[0m \u001b[32m76.4/76.4 kB\u001b[0m \u001b[31m5.4 MB/s\u001b[0m eta \u001b[36m0:00:00\u001b[0m\n",
            "\u001b[2K   \u001b[90m━━━━━━━━━━━━━━━━━━━━━━━━━━━━━━━━━━━━━━━━\u001b[0m \u001b[32m78.0/78.0 kB\u001b[0m \u001b[31m4.4 MB/s\u001b[0m eta \u001b[36m0:00:00\u001b[0m\n",
            "\u001b[2K   \u001b[90m━━━━━━━━━━━━━━━━━━━━━━━━━━━━━━━━━━━━━━━━\u001b[0m \u001b[32m318.9/318.9 kB\u001b[0m \u001b[31m19.0 MB/s\u001b[0m eta \u001b[36m0:00:00\u001b[0m\n",
            "\u001b[2K   \u001b[90m━━━━━━━━━━━━━━━━━━━━━━━━━━━━━━━━━━━━━━━━\u001b[0m \u001b[32m141.9/141.9 kB\u001b[0m \u001b[31m7.9 MB/s\u001b[0m eta \u001b[36m0:00:00\u001b[0m\n",
            "\u001b[2K   \u001b[90m━━━━━━━━━━━━━━━━━━━━━━━━━━━━━━━━━━━━━━━━\u001b[0m \u001b[32m85.4/85.4 kB\u001b[0m \u001b[31m5.0 MB/s\u001b[0m eta \u001b[36m0:00:00\u001b[0m\n",
            "\u001b[2K   \u001b[90m━━━━━━━━━━━━━━━━━━━━━━━━━━━━━━━━━━━━━━━━\u001b[0m \u001b[32m54.5/54.5 kB\u001b[0m \u001b[31m3.1 MB/s\u001b[0m eta \u001b[36m0:00:00\u001b[0m\n",
            "\u001b[2K   \u001b[90m━━━━━━━━━━━━━━━━━━━━━━━━━━━━━━━━━━━━━━━━\u001b[0m \u001b[32m58.3/58.3 kB\u001b[0m \u001b[31m3.6 MB/s\u001b[0m eta \u001b[36m0:00:00\u001b[0m\n",
            "\u001b[?25h"
          ]
        }
      ],
      "source": [
        "!pip install -qU \\\n",
        "    langchain-pinecone==0.1.3 \\\n",
        "    langchain-openai==0.1.8 \\\n",
        "    langchain-text-splitters==0.2.0 \\\n",
        "    langchain==0.2.1 \\\n",
        "    pinecone-notebooks==0.1.1"
      ]
    },
    {
      "cell_type": "markdown",
      "metadata": {
        "id": "Qwvsjt4UZgkM"
      },
      "source": [
        "Set environment variables for your Pinecone and OpenAI API keys:"
      ]
    },
    {
      "cell_type": "code",
      "execution_count": 3,
      "metadata": {
        "ExecuteTime": {
          "end_time": "2024-07-25T14:55:59.328779Z",
          "start_time": "2024-07-25T14:55:58.993178Z"
        },
        "id": "XXK1GdpimE6v",
        "outputId": "62deb93a-f7d8-45f1-cf85-a1265e156f95",
        "colab": {
          "base_uri": "https://localhost:8080/",
          "height": 247
        }
      },
      "outputs": [
        {
          "output_type": "display_data",
          "data": {
            "text/plain": [
              "<IPython.core.display.HTML object>"
            ],
            "text/html": [
              "<script type=\"text/javascript\" src=\"https://connect.pinecone.io/embed.js\"></script>"
            ]
          },
          "metadata": {}
        }
      ],
      "source": [
        "import os\n",
        "\n",
        "# initialize connection to pinecone (orget API key at app.pinecone.io)\n",
        "if not os.environ.get(\"SET_PINECONE_API_KEY\"):\n",
        "    from pinecone_notebooks.colab import Authenticate\n",
        "    Authenticate()"
      ]
    },
    {
      "cell_type": "code",
      "execution_count": 4,
      "metadata": {
        "id": "3dkFBCjfk40i"
      },
      "outputs": [],
      "source": [
        "api_key = os.environ.get(\"PINECONE_API_KEY\")\n",
        "\n",
        "# available at platform.openai.com/api-keys\n",
        "os.environ['OPENAI_API_KEY'] = os.environ.get('OPENAI_API_KEY') or \"Your open AI key\""
      ]
    },
    {
      "cell_type": "markdown",
      "metadata": {
        "id": "N4DIRePlaBjn"
      },
      "source": [
        "## Store knowledge in Pinecone\n"
      ]
    },
    {
      "cell_type": "code",
      "source": [
        "\n",
        "import requests\n",
        "from bs4 import BeautifulSoup\n",
        "from langchain.text_splitter import CharacterTextSplitter\n",
        "from langchain.schema import Document\n",
        "from langchain_pinecone import PineconeEmbeddings\n",
        "import pinecone\n",
        "import os\n",
        "\n",
        "# URL of the Special:AllPages page on the wiki\n",
        "all_pages_url = 'https://wiki.umiacs.umd.edu/umiacs/index.php/Special:AllPages'\n",
        "response = requests.get(all_pages_url)\n",
        "soup = BeautifulSoup(response.content, 'html.parser')\n",
        "\n",
        "# Create a set of unique pages on the wiki\n",
        "pageset = set()\n",
        "for link in soup.find_all('a'):\n",
        "    href = link.get('href')\n",
        "    # Ensure the link is valid and points to an internal page\n",
        "    if href and href.startswith('/umiacs/index.php'):\n",
        "        # Build the full URL for the wiki page\n",
        "        full_url = 'https://wiki.umiacs.umd.edu' + href\n",
        "        # Add the unique URL to the set, following redirects\n",
        "        response = requests.get(full_url, allow_redirects=True)\n",
        "        response_url = response.url\n",
        "        pageset.add(response_url)\n",
        "\n",
        "# List of URLs for HTML pages\n",
        "html_links = list(pageset)\n",
        "\n",
        "# Function to fetch HTML content from a URL\n",
        "def fetch_html_from_url(url):\n",
        "    try:\n",
        "        response = requests.get(url)\n",
        "        response.raise_for_status()  # Ensure the request was successful\n",
        "        return response.text  # Return the HTML content as a string\n",
        "    except requests.exceptions.RequestException as e:\n",
        "        print(f\"Failed to fetch {url}: {e}\")\n",
        "        return None\n",
        "\n",
        "# Function to extract text and headers from HTML using BeautifulSoup\n",
        "def extract_text_and_headers_from_html(html_content):\n",
        "    soup = BeautifulSoup(html_content, 'html.parser')\n",
        "\n",
        "    # Extract text from HTML\n",
        "    page_text = soup.get_text(separator=' ', strip=True)\n",
        "\n",
        "    # Extract the first header (e.g., h2 or h1)\n",
        "    header = soup.find('h2') or soup.find('h1')\n",
        "    header_text = header.get_text(strip=True) if header else \"No Header\"\n",
        "\n",
        "    return page_text, header_text\n",
        "\n",
        "text_splitter = CharacterTextSplitter(chunk_size=500, chunk_overlap=0)\n",
        "\n",
        "# Parse and split the HTML content from each link, converting to Documents\n",
        "parsed_pages = []\n",
        "for url in html_links:\n",
        "    html_content = fetch_html_from_url(url)\n",
        "    if html_content:  # Only proceed if the HTML was fetched successfully\n",
        "        extracted_text, header_text = extract_text_and_headers_from_html(html_content)\n",
        "\n",
        "        # Split the extracted text into chunks\n",
        "        chunks = text_splitter.split_text(extracted_text)\n",
        "\n",
        "        # Create a Document object for each chunk and add to parsed_pages\n",
        "        for chunk in chunks:\n",
        "            document = Document(\n",
        "                metadata={'Header 2': header_text, 'url': url},\n",
        "                page_content=chunk\n",
        "            )\n",
        "            parsed_pages.append(document)\n",
        "\n"
      ],
      "metadata": {
        "id": "d4wFkTcIgoyV",
        "outputId": "4e6ebe74-d80f-4729-e06f-951b6c29799e",
        "colab": {
          "base_uri": "https://localhost:8080/"
        }
      },
      "execution_count": 14,
      "outputs": [
        {
          "output_type": "stream",
          "name": "stderr",
          "text": [
            "WARNING:langchain_text_splitters.base:Created a chunk of size 1104, which is longer than the specified 500\n",
            "WARNING:langchain_text_splitters.base:Created a chunk of size 10261, which is longer than the specified 500\n",
            "WARNING:langchain_text_splitters.base:Created a chunk of size 10287, which is longer than the specified 500\n",
            "WARNING:langchain_text_splitters.base:Created a chunk of size 3391, which is longer than the specified 500\n",
            "WARNING:langchain_text_splitters.base:Created a chunk of size 5692, which is longer than the specified 500\n",
            "WARNING:langchain_text_splitters.base:Created a chunk of size 1604, which is longer than the specified 500\n",
            "WARNING:langchain_text_splitters.base:Created a chunk of size 1333, which is longer than the specified 500\n",
            "WARNING:langchain_text_splitters.base:Created a chunk of size 16117, which is longer than the specified 500\n",
            "WARNING:langchain_text_splitters.base:Created a chunk of size 1785, which is longer than the specified 500\n",
            "WARNING:langchain_text_splitters.base:Created a chunk of size 1023, which is longer than the specified 500\n",
            "WARNING:langchain_text_splitters.base:Created a chunk of size 4246, which is longer than the specified 500\n",
            "WARNING:langchain_text_splitters.base:Created a chunk of size 2648, which is longer than the specified 500\n",
            "WARNING:langchain_text_splitters.base:Created a chunk of size 2980, which is longer than the specified 500\n"
          ]
        },
        {
          "output_type": "stream",
          "name": "stdout",
          "text": [
            "Failed to fetch https://wiki.umiacs.umd.edu/umiacs/index.php/UMIACS:General_disclaimer: 404 Client Error: Not Found for url: https://wiki.umiacs.umd.edu/umiacs/index.php/UMIACS:General_disclaimer\n"
          ]
        },
        {
          "output_type": "stream",
          "name": "stderr",
          "text": [
            "WARNING:langchain_text_splitters.base:Created a chunk of size 2364, which is longer than the specified 500\n"
          ]
        },
        {
          "output_type": "stream",
          "name": "stdout",
          "text": [
            "Failed to fetch https://wiki.umiacs.umd.edu/umiacs/index.php/UMIACS:Privacy_policy: 404 Client Error: Not Found for url: https://wiki.umiacs.umd.edu/umiacs/index.php/UMIACS:Privacy_policy\n"
          ]
        },
        {
          "output_type": "stream",
          "name": "stderr",
          "text": [
            "WARNING:langchain_text_splitters.base:Created a chunk of size 6845, which is longer than the specified 500\n",
            "WARNING:langchain_text_splitters.base:Created a chunk of size 5617, which is longer than the specified 500\n",
            "WARNING:langchain_text_splitters.base:Created a chunk of size 2394, which is longer than the specified 500\n",
            "WARNING:langchain_text_splitters.base:Created a chunk of size 4220, which is longer than the specified 500\n",
            "WARNING:langchain_text_splitters.base:Created a chunk of size 3011, which is longer than the specified 500\n",
            "WARNING:langchain_text_splitters.base:Created a chunk of size 5652, which is longer than the specified 500\n",
            "WARNING:langchain_text_splitters.base:Created a chunk of size 1604, which is longer than the specified 500\n",
            "WARNING:langchain_text_splitters.base:Created a chunk of size 1333, which is longer than the specified 500\n",
            "WARNING:langchain_text_splitters.base:Created a chunk of size 16117, which is longer than the specified 500\n",
            "WARNING:langchain_text_splitters.base:Created a chunk of size 1785, which is longer than the specified 500\n",
            "WARNING:langchain_text_splitters.base:Created a chunk of size 1023, which is longer than the specified 500\n",
            "WARNING:langchain_text_splitters.base:Created a chunk of size 1455, which is longer than the specified 500\n",
            "WARNING:langchain_text_splitters.base:Created a chunk of size 3111, which is longer than the specified 500\n",
            "WARNING:langchain_text_splitters.base:Created a chunk of size 1310, which is longer than the specified 500\n",
            "WARNING:langchain_text_splitters.base:Created a chunk of size 2770, which is longer than the specified 500\n",
            "WARNING:langchain_text_splitters.base:Created a chunk of size 679, which is longer than the specified 500\n",
            "WARNING:langchain_text_splitters.base:Created a chunk of size 3472, which is longer than the specified 500\n",
            "WARNING:langchain_text_splitters.base:Created a chunk of size 2743, which is longer than the specified 500\n",
            "WARNING:langchain_text_splitters.base:Created a chunk of size 679, which is longer than the specified 500\n"
          ]
        }
      ]
    },
    {
      "cell_type": "code",
      "source": [
        "parsed_pages[0]"
      ],
      "metadata": {
        "id": "lPqCEgq9bSFX",
        "outputId": "41467e56-cc9f-49e7-8272-a7acbd7b703e",
        "colab": {
          "base_uri": "https://localhost:8080/"
        }
      },
      "execution_count": 15,
      "outputs": [
        {
          "output_type": "execute_result",
          "data": {
            "text/plain": [
              "Document(metadata={'Header 2': 'Contents', 'url': 'https://wiki.umiacs.umd.edu/umiacs/index.php/BarracudaSpamFirewall'}, page_content='BarracudaSpamFirewall - UMIACS BarracudaSpamFirewall From UMIACS Jump to navigation Jump to search Contents 1 Introduction 2 Mail Flow Through Barracudas 3 Scoring 4 Quarantine 5 Quarantine Passthrough 6 Whitelists, Blacklists & Bayesian Filtering 7 More Information Introduction UMIACS has deployed a system with 2 Barracuda Networks spam firewalls. This allows for enterprise level Virus and Spam scoring and filtering for our email architecture. You can log in to the system either of the 2 firewalls using your UMIACS email address (username@umiacs.umd.edu) and password: bubs.umiacs.umd.edu pompom.umiacs.umd.edu Mail Flow Through Barracudas The first time your mail flows through one of the Barracudas it will send you a mail with a new username and password. Subsequently you will receive every day (unless you configure otherwise) a mail at approx. 3:30pm EST from the Barracuda with your quarantine summary. Please note that auto log-in through the link provided in the summary does not work due to a recent firmware upgrade on the Barracudas. Please use the links provided above to log in. Scoring The Barracudas will score every message that passes through them and inject varying message headers based on that score.  You can then create email filters based on these headers to filter out messages that are tagged as spam by the Barracudas. See BarracudaSpamFirewall/Scoring for more details. Quarantine Mail that has been deemed as spam will be kept on the Barracudas in quarantine.  It will not be delivered to your mailbox unless you configure the Barracudas to do so. Your quarantine will be preserved for 21 days . If mail is held for longer, then it will be purged. If you receive a security warning in your browser after clicking this link, you may need to add the UMIACS Certificate Authority You can search your spam quarantine with the following steps BarracudaSpamFirewall/SearchingQuarantine Quarantine Passthrough If you wish to have the mail that would ordinarily be quarantined by Barracuda delivered to your mailbox instead you can configure this using the Barracuda web configuration. You can enable this functionality with the following guide BarracudaSpamFirewall/QuarantinePassthrough Whitelists, Blacklists & Bayesian Filtering You may also setup whitelists, blacklists, and Bayesian filtering options through the Preferences tab at the top of the Barracuda web portal. More Information For more information on how to use the Barracuda please download the user\\'s guide: https://wiki.umiacs.umd.edu/umiacs/images/5/5a/Barracuda_usersguide.pdf Retrieved from \" https://wiki.umiacs.umd.edu/umiacs/index.php?title=BarracudaSpamFirewall&oldid=10019 \" Navigation menu Personal tools Log in Namespaces Page Discussion English Views Read View source View history More Search Navigation Main Page Getting Started Core Services Lab Facilities Placing Orders Support Tools What links here Related changes Special pages Printable version Permanent link Page information This page was last edited on 20 September 2021, at 19:16. Privacy policy About UMIACS Disclaimers')"
            ]
          },
          "metadata": {},
          "execution_count": 15
        }
      ]
    },
    {
      "cell_type": "markdown",
      "metadata": {
        "id": "1GKq1M_5tiHX"
      },
      "source": [
        "Initialize a LangChain embedding object. Note that this step uses a Pinecone API key you set as an environment variable earlier."
      ]
    },
    {
      "cell_type": "code",
      "execution_count": 16,
      "metadata": {
        "id": "GL2jBqZ3tjDQ"
      },
      "outputs": [],
      "source": [
        "from langchain_pinecone import PineconeEmbeddings\n",
        "\n",
        "model_name = 'multilingual-e5-large'\n",
        "embeddings = PineconeEmbeddings(\n",
        "    model=model_name,\n",
        "    pinecone_api_key=os.environ.get('PINECONE_API_KEY')\n",
        ")"
      ]
    },
    {
      "cell_type": "markdown",
      "metadata": {
        "id": "7nJ2fPXJzxvS"
      },
      "source": [
        "We initialize a new client instance for Pinecone:"
      ]
    },
    {
      "cell_type": "code",
      "execution_count": 17,
      "metadata": {
        "id": "lVOVXyQh7dWT"
      },
      "outputs": [],
      "source": [
        "from pinecone import Pinecone, ServerlessSpec\n",
        "\n",
        "pc = Pinecone(api_key=os.environ.get(\"PINECONE_API_KEY\"))"
      ]
    },
    {
      "cell_type": "markdown",
      "metadata": {
        "id": "SGkLK_gizvVY"
      },
      "source": [
        "Now we setup our index specification, this allows us to define the cloud provider and region where we want to deploy our index."
      ]
    },
    {
      "cell_type": "code",
      "execution_count": 18,
      "metadata": {
        "id": "V3FqlDE4z2do"
      },
      "outputs": [],
      "source": [
        "from pinecone import ServerlessSpec\n",
        "\n",
        "cloud = os.environ.get('PINECONE_CLOUD') or 'aws'\n",
        "region = os.environ.get('PINECONE_REGION') or 'us-east-1'\n",
        "\n",
        "spec = ServerlessSpec(cloud=cloud, region=region)"
      ]
    },
    {
      "cell_type": "markdown",
      "metadata": {
        "id": "0VqAdTHMzj0O"
      },
      "source": [
        "Define our index name:"
      ]
    },
    {
      "cell_type": "code",
      "execution_count": 19,
      "metadata": {
        "id": "97AA0cfzzqe1"
      },
      "outputs": [],
      "source": [
        "index_name = \"umiacs-wiki\""
      ]
    },
    {
      "cell_type": "markdown",
      "metadata": {
        "id": "fWsPiLBZ67wG"
      },
      "source": [
        "Now create a serverless index in Pinecone for storing the embeddings of your document, setting the index dimensions and distance metric to match those of the Pinecone `multilingual-e5-large` model you'll use to create the embeddings:\n",
        "\n"
      ]
    },
    {
      "cell_type": "code",
      "execution_count": 20,
      "metadata": {
        "id": "XP8i9Jl3zi_g"
      },
      "outputs": [],
      "source": [
        "import time\n",
        "\n",
        "if index_name not in pc.list_indexes().names():\n",
        "    pc.create_index(\n",
        "        name=index_name,\n",
        "        dimension=embeddings.dimension,\n",
        "        metric=\"cosine\",\n",
        "        spec=spec\n",
        "    )\n",
        "    # wait for index to be ready\n",
        "    while not pc.describe_index(index_name).status['ready']:\n",
        "        time.sleep(1)"
      ]
    },
    {
      "cell_type": "markdown",
      "metadata": {
        "id": "IekoI7HNtsVj"
      },
      "source": [
        "Embed and upsert each chunk as a distinct record in a namespace. Namespaces let you partition records within an index and are essential for [implementing multitenancy](https://docs.pinecone.io/guides/indexes/implement-multitenancy) when you need to isolate the data of each customer/user."
      ]
    },
    {
      "cell_type": "code",
      "source": [
        "import time\n",
        "import json\n",
        "import uuid  # For generating unique IDs, if not already present in documents\n",
        "\n",
        "from langchain_pinecone import PineconeVectorStore\n",
        "\n",
        "# Namespace and index settings\n",
        "namespace = \"umiacswiki-vector\"\n",
        "\n",
        "# List to store vector IDs\n",
        "vector_ids = []\n",
        "\n",
        "# Function to generate or extract vector IDs from documents\n",
        "def generate_vector_id(document):\n",
        "    if 'url' in document.metadata:\n",
        "        return document.metadata['url']\n",
        "\n",
        "    # Option 2: Generate a UUID for each document\n",
        "    return str(uuid.uuid4())\n",
        "\n",
        "# Attach unique vector IDs to the documents and store them\n",
        "for doc in parsed_pages:\n",
        "    vector_id = generate_vector_id(doc)\n",
        "    vector_ids.append(vector_id)\n",
        "    # Add the vector ID to the document metadata (if necessary for tracking)\n",
        "    doc.metadata['vector_id'] = vector_id\n",
        "\n",
        "# Insert the documents into Pinecone using PineconeVectorStore\n",
        "docsearch = PineconeVectorStore.from_documents(\n",
        "    documents=parsed_pages,  # Documents now have vector IDs in metadata\n",
        "    index_name=index_name,\n",
        "    embedding=embeddings,\n",
        "    namespace=namespace\n",
        ")\n",
        "\n",
        "# Simulate a delay (optional)\n",
        "time.sleep(1)\n",
        "\n",
        "# Store vector IDs externally (e.g., in a JSON file)\n",
        "with open('vector_ids.json', 'w') as f:\n",
        "    json.dump(vector_ids, f, indent=4)\n",
        "\n",
        "print(f\"Inserted {len(vector_ids)} vectors and stored their IDs in 'vector_ids.json'\")\n"
      ],
      "metadata": {
        "colab": {
          "base_uri": "https://localhost:8080/"
        },
        "id": "J23CVY38SEdn",
        "outputId": "7d0d2114-5ac8-40ab-a3c7-383ffb5b7a98"
      },
      "execution_count": 21,
      "outputs": [
        {
          "output_type": "stream",
          "name": "stdout",
          "text": [
            "Inserted 402 vectors and stored their IDs in 'vector_ids.json'\n"
          ]
        }
      ]
    },
    {
      "cell_type": "markdown",
      "metadata": {
        "id": "_Xhbq8-ZxEku"
      },
      "source": [
        "Use Pinecone's `list` and `query` operations to look at one of the records:"
      ]
    },
    {
      "cell_type": "code",
      "execution_count": 22,
      "metadata": {
        "colab": {
          "base_uri": "https://localhost:8080/"
        },
        "id": "KoUyFS6EtH1o",
        "outputId": "f91286d1-8a00-4239-e7f8-50c85362fe57"
      },
      "outputs": [
        {
          "output_type": "stream",
          "name": "stdout",
          "text": [
            "{'matches': [{'id': '015e8080-83de-4faf-bd1b-289e993bec57',\n",
            "              'metadata': {'Header 2': 'Contents',\n",
            "                           'text': 'python your_file.py Storage There are 3 '\n",
            "                                   'types of user storage available to users '\n",
            "                                   'in GAMMA: Home directories Project '\n",
            "                                   'directories Scratch directories There is '\n",
            "                                   'also read-only storage available for '\n",
            "                                   'Dataset directories. GAMMA users can also '\n",
            "                                   'request Nexus project allocations . Home '\n",
            "                                   'Directories You have 30GB of home '\n",
            "                                   'directory storage available at '\n",
            "                                   '/nfshomes/<username> .  It has both '\n",
            "                                   'Snapshots and Backups enabled. Home '\n",
            "                                   'directories are intended to store personal '\n",
            "                                   'or configuration files only.  We encourage '\n",
            "                                   'you to not share any data in your home '\n",
            "                                   'directory.  You are encouraged to utilize '\n",
            "                                   'our GitLab infrastructure to host your '\n",
            "                                   'code repositories. NOTE : To check your '\n",
            "                                   'quota on this directory, use the command '\n",
            "                                   'df -h ~ . Project Directories You can '\n",
            "                                   'request project based allocations for up '\n",
            "                                   'to 8TB and up to 180 days with approval '\n",
            "                                   'from a GAMMA faculty member. To request an '\n",
            "                                   'allocation, please contact staff with the '\n",
            "                                   'faculty member(s) that approved the '\n",
            "                                   'project in the conversation.  Please '\n",
            "                                   'include the following details: Project '\n",
            "                                   'Name (short) Description Size (1TB, 2TB, '\n",
            "                                   'etc.) Length in days (30 days, 90 days, '\n",
            "                                   'etc.) Other user(s) that need to access '\n",
            "                                   'the allocation, if any These allocations '\n",
            "                                   'will be available from /fs/gamma-projects '\n",
            "                                   'under a name that you provide when you '\n",
            "                                   'request the allocation.  Near the end of '\n",
            "                                   'the allocation period, staff will contact '\n",
            "                                   'you and ask if you would like to renew the '\n",
            "                                   'allocation (requires re-approval from a '\n",
            "                                   'GAMMA faculty member). If you are no '\n",
            "                                   'longer in need of the storage allocation, '\n",
            "                                   'you will need to relocate all desired data '\n",
            "                                   'within two weeks of the end of the '\n",
            "                                   'allocation period.  Staff will then remove '\n",
            "                                   'the allocation. If you do not respond to '\n",
            "                                   \"staff's request by the end of the \"\n",
            "                                   'allocation period, staff will make the '\n",
            "                                   'allocation temporarily inaccessible. If '\n",
            "                                   'you do respond asking for renewal but the '\n",
            "                                   'original faculty approver does not respond '\n",
            "                                   'within two weeks of the end of the '\n",
            "                                   'allocation period, staff will also make '\n",
            "                                   'the allocation temporarily inaccessible. '\n",
            "                                   'If one month from the end of the '\n",
            "                                   'allocation period is reached without both '\n",
            "                                   'you and the faculty approver responding, '\n",
            "                                   'staff will remove the allocation. This '\n",
            "                                   'data is backed up nightly. Scratch '\n",
            "                                   'Directories Scratch data has no data '\n",
            "                                   'protection, there are no snapshots and the '\n",
            "                                   'data is not backed up. \\n'\n",
            "                                   'There are two types of scratch '\n",
            "                                   'directories: Network scratch directory '\n",
            "                                   'Local scratch directories Network Scratch '\n",
            "                                   'Directory You are allocated 100GB of '\n",
            "                                   'scratch space via NFS from '\n",
            "                                   '/gammascratch/$username . It is not backed '\n",
            "                                   'up or protected in any way. This directory '\n",
            "                                   'is automounted so you may not see your '\n",
            "                                   'directory if you run ls /gammascratch but '\n",
            "                                   'it will be mounted when you cd into your '\n",
            "                                   '/gammascratch directory. You may request a '\n",
            "                                   'permanent increase of up to 200GB total '\n",
            "                                   'space without any faculty approval by '\n",
            "                                   'contacting staff .  If you need space '\n",
            "                                   'beyond 200GB, you will need faculty '\n",
            "                                   'approval. This file system is available on '\n",
            "                                   'all submission, data management, and '\n",
            "                                   'computational nodes within the cluster. '\n",
            "                                   'Local Scratch Directories These file '\n",
            "                                   'systems are not available over NFS and '\n",
            "                                   'there are no backups or snapshots '\n",
            "                                   'available for these file systems. Each '\n",
            "                                   'computational node that you can schedule '\n",
            "                                   'compute jobs on has one or more local '\n",
            "                                   'scratch directories.  These are always '\n",
            "                                   'named /scratch0 , /scratch1 , etc.  These '\n",
            "                                   'directories are local to each node, ie. '\n",
            "                                   'the /scratch0 on two different nodes are '\n",
            "                                   'completely separate. These directories are '\n",
            "                                   'almost always more performant than any '\n",
            "                                   'other storage available to the job.  '\n",
            "                                   'However, you must stage data to these '\n",
            "                                   'directories within the confines of your '\n",
            "                                   'jobs and stage the data out before the end '\n",
            "                                   'of your jobs. These local scratch '\n",
            "                                   'directories have a tmpwatch job which will '\n",
            "                                   'delete unaccessed data after 90 days , '\n",
            "                                   'scheduled via maintenance jobs to run once '\n",
            "                                   'a month during our monthly maintenance '\n",
            "                                   'windows.  Again, please make sure you '\n",
            "                                   'secure any data you write to these '\n",
            "                                   'directories at the end of your job. Gamma '\n",
            "                                   'has invested in a 20TB NVMe scratch file '\n",
            "                                   'system on nexusgamma00.umiacs.umd.edu that '\n",
            "                                   'is available as /scratch1 .  To utilize '\n",
            "                                   'this space, you will need to copy data '\n",
            "                                   'from/to this over SSH from a compute '\n",
            "                                   'node.  To make this easier, you may want '\n",
            "                                   'to setup SSH keys that will allow you to '\n",
            "                                   'copy data without prompting for passwords. '\n",
            "                                   'The /scratch1 directory on '\n",
            "                                   \"nexusgamma00.umiacs.umd.edu doesn't have a \"\n",
            "                                   'tmpwatch. The files in this directory need '\n",
            "                                   'to be manually removed once they are no '\n",
            "                                   'longer needed. Datasets We have read-only '\n",
            "                                   'dataset storage available at '\n",
            "                                   '/fs/gamma-datasets .  If there are '\n",
            "                                   'datasets that you would like to see '\n",
            "                                   'curated and available, please see this '\n",
            "                                   'page . The list of GAMMA datasets we '\n",
            "                                   'currently host can be viewed here . '\n",
            "                                   'Retrieved from \" '\n",
            "                                   'https://wiki.umiacs.umd.edu/umiacs/index.php?title=Nexus/GAMMA&oldid=11906 '\n",
            "                                   '\" Navigation menu Personal tools Log in '\n",
            "                                   'Namespaces Page Discussion English Views '\n",
            "                                   'Read View source View history More Search '\n",
            "                                   'Navigation Main Page Getting Started Core '\n",
            "                                   'Services Lab Facilities Placing Orders '\n",
            "                                   'Support Tools What links here Related '\n",
            "                                   'changes Special pages Printable version '\n",
            "                                   'Permanent link Page information This page '\n",
            "                                   'was last edited on 25 June 2024, at 18:25. '\n",
            "                                   'Privacy policy About UMIACS Disclaimers',\n",
            "                           'url': 'https://wiki.umiacs.umd.edu/umiacs/index.php/Nexus/Gamma',\n",
            "                           'vector_id': 'https://wiki.umiacs.umd.edu/umiacs/index.php/Nexus/Gamma'},\n",
            "              'score': 0.99999994,\n",
            "              'values': []}],\n",
            " 'namespace': 'umiacswiki-vector',\n",
            " 'usage': {'read_units': 6}}\n",
            "{'matches': [{'id': '46878429-7308-4b80-b8e4-1069b7bbfc00',\n",
            "              'metadata': {'Header 2': 'Viewing/Editing Security Groups',\n",
            "                           'text': 'SecGroups - UMIACS SecGroups From UMIACS '\n",
            "                                   'Jump to navigation Jump to search Security '\n",
            "                                   'Groups are authentication groups that '\n",
            "                                   'control access to various applications in '\n",
            "                                   'UMIACS. They provide fine-grained access '\n",
            "                                   'control to wikis, source code '\n",
            "                                   'repositories, and certain web '\n",
            "                                   'applications. Viewing/Editing Security '\n",
            "                                   'Groups You can view and edit the secgroups '\n",
            "                                   'you belong to using the SecGroups section '\n",
            "                                   'of the directory app. Retrieved from \" '\n",
            "                                   'https://wiki.umiacs.umd.edu/umiacs/index.php?title=SecGroups&oldid=8487 '\n",
            "                                   '\" Navigation menu Personal tools Log in '\n",
            "                                   'Namespaces Page Discussion English Views '\n",
            "                                   'Read View source View history More Search '\n",
            "                                   'Navigation Main Page Getting Started Core '\n",
            "                                   'Services Lab Facilities Placing Orders '\n",
            "                                   'Support Tools What links here Related '\n",
            "                                   'changes Special pages Printable version '\n",
            "                                   'Permanent link Page information This page '\n",
            "                                   'was last edited on 7 August 2019, at '\n",
            "                                   '18:25. Privacy policy About UMIACS '\n",
            "                                   'Disclaimers',\n",
            "                           'url': 'https://wiki.umiacs.umd.edu/umiacs/index.php/SecGroups',\n",
            "                           'vector_id': 'https://wiki.umiacs.umd.edu/umiacs/index.php/SecGroups'},\n",
            "              'score': 1.00000012,\n",
            "              'values': []}],\n",
            " 'namespace': 'umiacswiki-vector',\n",
            " 'usage': {'read_units': 6}}\n",
            "{'matches': [{'id': '8212f9ad-e196-4891-968b-a1b9defc7578',\n",
            "              'metadata': {'Header 2': 'Navigation menu',\n",
            "                           'text': 'Mpich1sub.sh.o167 - UMIACS '\n",
            "                                   'Mpich1sub.sh.o167 From UMIACS Jump to '\n",
            "                                   'navigation Jump to search Warning: no '\n",
            "                                   'access to tty (Bad file descriptor).\\n'\n",
            "                                   'Thus no job control in this shell.\\n'\n",
            "                                   '/var/spool/torque/aux//167.queen.umiacs.umd.edu\\n'\n",
            "                                   'Rank 1 sending message \"1\" to rank 0\\n'\n",
            "                                   'Rank 2 sending message \"2\" to rank 0\\n'\n",
            "                                   'Rank 3 sending message \"3\" to rank 0\\n'\n",
            "                                   'Rank 4 sending message \"4\" to rank 0\\n'\n",
            "                                   'Rank 5 sending message \"5\" to rank 0\\n'\n",
            "                                   'Rank 6 sending message \"6\" to rank 0\\n'\n",
            "                                   'Rank 0 not sending to myself\\n'\n",
            "                                   'Rank 0 received message \"1\" from rank 1\\n'\n",
            "                                   'Rank 0 sending message \"0\" to rank 1\\n'\n",
            "                                   'Rank 0 received message \"2\" from rank 2\\n'\n",
            "                                   'Rank 0 sending message \"0\" to rank 2\\n'\n",
            "                                   'Rank 7 sending message \"7\" to rank 0\\n'\n",
            "                                   'Rank 1 received message \"0\" from rank 0\\n'\n",
            "                                   'Rank 1 not sending to myself\\n'\n",
            "                                   'Rank 1 received message \"2\" from rank 2\\n'\n",
            "                                   'Rank 1 sending message \"1\" to rank 2\\n'\n",
            "                                   'Rank 1 received message \"3\" from rank 3\\n'\n",
            "                                   'Rank 1 sending message \"1\" to rank 3\\n'\n",
            "                                   'Rank 1 received message \"4\" from rank 4\\n'\n",
            "                                   'Rank 1 sending message \"1\" to rank 4\\n'\n",
            "                                   'Rank 1 received message \"5\" from rank 5\\n'\n",
            "                                   'Rank 1 sending message \"1\" to rank 5\\n'\n",
            "                                   'Rank 1 received message \"6\" from rank 6\\n'\n",
            "                                   'Rank 1 sending message \"1\" to rank 6\\n'\n",
            "                                   'Rank 1 received message \"7\" from rank 7\\n'\n",
            "                                   'Rank 1 sending message \"1\" to rank 7\\n'\n",
            "                                   'Rank 1 finished\\n'\n",
            "                                   'Rank 3 received message \"0\" from rank 0\\n'\n",
            "                                   'Rank 3 sending message \"3\" to rank 1\\n'\n",
            "                                   'Rank 3 received message \"1\" from rank 1\\n'\n",
            "                                   'Rank 3 sending message \"3\" to rank 2\\n'\n",
            "                                   'Rank 3 received message \"2\" from rank 2\\n'\n",
            "                                   'Rank 3 not sending to myself\\n'\n",
            "                                   'Rank 3 received message \"4\" from rank 4\\n'\n",
            "                                   'Rank 3 sending message \"3\" to rank 4\\n'\n",
            "                                   'Rank 3 received message \"5\" from rank 5\\n'\n",
            "                                   'Rank 3 sending message \"3\" to rank 5\\n'\n",
            "                                   'Rank 3 received message \"6\" from rank 6\\n'\n",
            "                                   'Rank 3 sending message \"3\" to rank 6\\n'\n",
            "                                   'Rank 3 received message \"7\" from rank 7\\n'\n",
            "                                   'Rank 3 sending message \"3\" to rank 7\\n'\n",
            "                                   'Rank 3 finished\\n'\n",
            "                                   'Rank 6 received message \"0\" from rank 0\\n'\n",
            "                                   'Rank 6 sending message \"6\" to rank 1\\n'\n",
            "                                   'Rank 6 received message \"1\" from rank 1\\n'\n",
            "                                   'Rank 6 sending message \"6\" to rank 2\\n'\n",
            "                                   'Rank 6 received message \"2\" from rank 2\\n'\n",
            "                                   'Rank 6 sending message \"6\" to rank 3\\n'\n",
            "                                   'Rank 6 received message \"3\" from rank 3\\n'\n",
            "                                   'Rank 6 sending message \"6\" to rank 4\\n'\n",
            "                                   'Rank 6 received message \"4\" from rank 4\\n'\n",
            "                                   'Rank 6 sending message \"6\" to rank 5\\n'\n",
            "                                   'Rank 6 received message \"5\" from rank 5\\n'\n",
            "                                   'Rank 6 not sending to myself\\n'\n",
            "                                   'Rank 6 received message \"7\" from rank 7\\n'\n",
            "                                   'Rank 6 sending message \"6\" to rank 7\\n'\n",
            "                                   'Rank 6 finished\\n'\n",
            "                                   'Rank 5 received message \"0\" from rank 0\\n'\n",
            "                                   'Rank 5 sending message \"5\" to rank 1\\n'\n",
            "                                   'Rank 5 received message \"1\" from rank 1\\n'\n",
            "                                   'Rank 5 sending message \"5\" to rank 2\\n'\n",
            "                                   'Rank 5 received message \"2\" from rank 2\\n'\n",
            "                                   'Rank 5 sending message \"5\" to rank 3\\n'\n",
            "                                   'Rank 5 received message \"3\" from rank 3\\n'\n",
            "                                   'Rank 5 sending message \"5\" to rank 4\\n'\n",
            "                                   'Rank 5 received message \"4\" from rank 4\\n'\n",
            "                                   'Rank 5 not sending to myself\\n'\n",
            "                                   'Rank 5 received message \"6\" from rank 6\\n'\n",
            "                                   'Rank 5 sending message \"5\" to rank 6\\n'\n",
            "                                   'Rank 5 received message \"7\" from rank 7\\n'\n",
            "                                   'Rank 5 sending message \"5\" to rank 7\\n'\n",
            "                                   'Rank 5 finished\\n'\n",
            "                                   'Rank 0 received message \"3\" from rank 3\\n'\n",
            "                                   'Rank 0 sending message \"0\" to rank 3\\n'\n",
            "                                   'Rank 0 received message \"4\" from rank 4\\n'\n",
            "                                   'Rank 0 sending message \"0\" to rank 4\\n'\n",
            "                                   'Rank 0 received message \"5\" from rank 5\\n'\n",
            "                                   'Rank 0 sending message \"0\" to rank 5\\n'\n",
            "                                   'Rank 0 received message \"6\" from rank 6\\n'\n",
            "                                   'Rank 0 sending message \"0\" to rank 6\\n'\n",
            "                                   'Rank 0 received message \"7\" from rank 7\\n'\n",
            "                                   'Rank 0 sending message \"0\" to rank 7\\n'\n",
            "                                   'Rank 0 finished\\n'\n",
            "                                   'Rank 7 received message \"0\" from rank 0\\n'\n",
            "                                   'Rank 7 sending message \"7\" to rank 1\\n'\n",
            "                                   'Rank 7 received message \"1\" from rank 1\\n'\n",
            "                                   'Rank 7 sending message \"7\" to rank 2\\n'\n",
            "                                   'Rank 7 received message \"2\" from rank 2\\n'\n",
            "                                   'Rank 7 sending message \"7\" to rank 3\\n'\n",
            "                                   'Rank 7 received message \"3\" from rank 3\\n'\n",
            "                                   'Rank 7 sending message \"7\" to rank 4\\n'\n",
            "                                   'Rank 7 received message \"4\" from rank 4\\n'\n",
            "                                   'Rank 7 sending message \"7\" to rank 5\\n'\n",
            "                                   'Rank 7 received message \"5\" from rank 5\\n'\n",
            "                                   'Rank 7 sending message \"7\" to rank 6\\n'\n",
            "                                   'Rank 7 received message \"6\" from rank 6\\n'\n",
            "                                   'Rank 7 not sending to myself\\n'\n",
            "                                   'Rank 7 finished\\n'\n",
            "                                   'Rank 2 received message \"0\" from rank 0\\n'\n",
            "                                   'Rank 2 sending message \"2\" to rank 1\\n'\n",
            "                                   'Rank 2 received message \"1\" from rank 1\\n'\n",
            "                                   'Rank 2 not sending to myself\\n'\n",
            "                                   'Rank 2 received message \"3\" from rank 3\\n'\n",
            "                                   'Rank 2 sending message \"2\" to rank 3\\n'\n",
            "                                   'Rank 2 received message \"4\" from rank 4\\n'\n",
            "                                   'Rank 2 sending message \"2\" to rank 4\\n'\n",
            "                                   'Rank 2 received message \"5\" from rank 5\\n'\n",
            "                                   'Rank 2 sending message \"2\" to rank 5\\n'\n",
            "                                   'Rank 2 received message \"6\" from rank 6\\n'\n",
            "                                   'Rank 2 sending message \"2\" to rank 6\\n'\n",
            "                                   'Rank 2 received message \"7\" from rank 7\\n'\n",
            "                                   'Rank 2 sending message \"2\" to rank 7\\n'\n",
            "                                   'Rank 2 finished\\n'\n",
            "                                   'Rank 4 received message \"0\" from rank 0\\n'\n",
            "                                   'Rank 4 sending message \"4\" to rank 1\\n'\n",
            "                                   'Rank 4 received message \"1\" from rank 1\\n'\n",
            "                                   'Rank 4 sending message \"4\" to rank 2\\n'\n",
            "                                   'Rank 4 received message \"2\" from rank 2\\n'\n",
            "                                   'Rank 4 sending message \"4\" to rank 3\\n'\n",
            "                                   'Rank 4 received message \"3\" from rank 3\\n'\n",
            "                                   'Rank 4 not sending to myself\\n'\n",
            "                                   'Rank 4 received message \"5\" from rank 5\\n'\n",
            "                                   'Rank 4 sending message \"4\" to rank 5\\n'\n",
            "                                   'Rank 4 received message \"6\" from rank 6\\n'\n",
            "                                   'Rank 4 sending message \"4\" to rank 6\\n'\n",
            "                                   'Rank 4 received message \"7\" from rank 7\\n'\n",
            "                                   'Rank 4 sending message \"4\" to rank 7\\n'\n",
            "                                   'Rank 4 finished Retrieved from \" '\n",
            "                                   'https://wiki.umiacs.umd.edu/umiacs/index.php?title=Mpich1sub.sh.o167&oldid=2731 '\n",
            "                                   '\" Navigation menu Personal tools Log in '\n",
            "                                   'Namespaces Page Discussion English Views '\n",
            "                                   'Read View source View history More Search '\n",
            "                                   'Navigation Main Page Getting Started Core '\n",
            "                                   'Services Lab Facilities Placing Orders '\n",
            "                                   'Support Tools What links here Related '\n",
            "                                   'changes Special pages Printable version '\n",
            "                                   'Permanent link Page information This page '\n",
            "                                   'was last edited on 14 September 2009, at '\n",
            "                                   '16:12. Privacy policy About UMIACS '\n",
            "                                   'Disclaimers',\n",
            "                           'url': 'https://wiki.umiacs.umd.edu/umiacs/index.php/Mpich1sub.sh.o167',\n",
            "                           'vector_id': 'https://wiki.umiacs.umd.edu/umiacs/index.php/Mpich1sub.sh.o167'},\n",
            "              'score': 1.00000012,\n",
            "              'values': []}],\n",
            " 'namespace': 'umiacswiki-vector',\n",
            " 'usage': {'read_units': 6}}\n",
            "{'matches': [{'id': 'bcc001e2-5fc4-4e3b-8119-d167f83c89f0',\n",
            "              'metadata': {'Header 2': 'Contents',\n",
            "                           'text': 'OBJ - UMIACS OBJ From UMIACS Jump to '\n",
            "                                   'navigation Jump to search Contents 1 '\n",
            "                                   'UMIACS Object Store 2 Terminology 3 '\n",
            "                                   'Getting Started 4 Buckets 5 Keys (files) 6 '\n",
            "                                   'Hosting a Website in your Bucket 7 '\n",
            "                                   'Deleting Keys (files) 8 Clients 9 Access '\n",
            "                                   'Key and Secret Key 10 LabGroups 11 '\n",
            "                                   'Managing LabGroups 12 Requesting a '\n",
            "                                   'LabGroup UMIACS Object Store An object '\n",
            "                                   'store is a web-based storage solution '\n",
            "                                   'focused on reliability, scalability and '\n",
            "                                   'security. It is best suited for public '\n",
            "                                   'content storage/distribution, archiving '\n",
            "                                   'data or secure data sharing between users. '\n",
            "                                   'Our Object Store can be used through the '\n",
            "                                   'web interface , the command line UMobj '\n",
            "                                   'utilities, third-party graphical clients , '\n",
            "                                   'and even programmatically using many '\n",
            "                                   'popular programming languages.  We support '\n",
            "                                   'a subset of the Amazon Simple Storage '\n",
            "                                   'Services (S3) API , built around a '\n",
            "                                   'technology called Ceph . Terminology '\n",
            "                                   'S3-like storage thinks in terms of buckets '\n",
            "                                   'and keys. Keys are analogous to files. A '\n",
            "                                   'bucket is simply a container to a set of '\n",
            "                                   'keys. There is no actual hierarchy inside '\n",
            "                                   'of a bucket, but the standard UNIX path '\n",
            "                                   'separator, a forward slash (/) at the end '\n",
            "                                   'of a Key name, is interpreted by many '\n",
            "                                   'clients (including this web site and our '\n",
            "                                   'UMobj utilities) as being a directory '\n",
            "                                   'delimiter. This allows you to copy data '\n",
            "                                   'from your local filesystems to your '\n",
            "                                   'buckets through umobj or third-party '\n",
            "                                   'clients. You may specify who has what '\n",
            "                                   'types of access to your buckets via Access '\n",
            "                                   'Control Lists (ACLs) at the bucket level '\n",
            "                                   'or the individual key level. Your data is '\n",
            "                                   'protected from individual machine failure '\n",
            "                                   'via replication within the cluster. All '\n",
            "                                   'data is checksummed in accordance with the '\n",
            "                                   'Amazon S3 protocol to ensure that data in '\n",
            "                                   'transit is valid before it is accepted by '\n",
            "                                   'the cluster. However, there are no backups '\n",
            "                                   'or snapshots of this data in the cluster, '\n",
            "                                   'so if a user deletes a key or bucket in '\n",
            "                                   'the Object Store, there is no way to '\n",
            "                                   'restore that information . Getting Started '\n",
            "                                   'UMIACS users are allocated 50GB of '\n",
            "                                   'storage.  Faculty are allocated 10TB. To '\n",
            "                                   'get started, log in and you will be '\n",
            "                                   'redirected to the initial help page.  You '\n",
            "                                   'can also find the link from our '\n",
            "                                   'https://intranet.umiacs.umd.edu site as '\n",
            "                                   '\"OBJbox Object Store\". Buckets You can '\n",
            "                                   'create and browse your buckets (containers '\n",
            "                                   'that hold data) by visiting your buckets '\n",
            "                                   'page. You can also set bucket-level Access '\n",
            "                                   'Control Lists (ACLs) from this page. '\n",
            "                                   'Bucket-level ACLs get implicitly inherited '\n",
            "                                   'to all the keys within the bucket. '\n",
            "                                   'However, individual keys can have '\n",
            "                                   'additional specific ACLs applied for more '\n",
            "                                   'granular control. Bucket names must be '\n",
            "                                   'unique. When you create a bucket it will '\n",
            "                                   'notify you if the name is already taken. '\n",
            "                                   'Keys (files) After selecting a bucket, you '\n",
            "                                   'will be able to create folders and upload '\n",
            "                                   'files within that bucket. Listed files can '\n",
            "                                   'be downloaded, deleted, or assigned a '\n",
            "                                   'specific ACL by the key owner/creator. '\n",
            "                                   'Please note: Local file system ownership '\n",
            "                                   'and permissions, and special files (such '\n",
            "                                   'as symlinks) can not be represented in the '\n",
            "                                   'Object Store. We highly suggest that if '\n",
            "                                   'you are securing data into the Object '\n",
            "                                   'Store and need these to be faithfully '\n",
            "                                   'maintained that you use a local archive '\n",
            "                                   'tool (tar, zip, etc..) to collect the data '\n",
            "                                   'and then upload the resulting archive '\n",
            "                                   'file(s). Hosting a Website in your Bucket '\n",
            "                                   'Please visit OBJ/WebHosting for more '\n",
            "                                   'information. Deleting Keys (files) Within '\n",
            "                                   'the web interface you can delete files '\n",
            "                                   'one-by-one. If you want to remove a bunch '\n",
            "                                   'of files, you will need to use a different '\n",
            "                                   'client as described below. This is '\n",
            "                                   'dangerous as there are no backups of files '\n",
            "                                   'in the Object Store. Be careful to only '\n",
            "                                   'delete the data you intend to delete. '\n",
            "                                   'Clients There are several clients that can '\n",
            "                                   'be used (sometimes with a limited set of '\n",
            "                                   'features) on your desktop to gain access '\n",
            "                                   'to the Object Store. All supported UMIACS '\n",
            "                                   'systems running RHEL8 have a copy of our '\n",
            "                                   'UMobj utilities preinstalled which provide '\n",
            "                                   'command line access to the Object Store. '\n",
            "                                   'We also have an article in our wiki on '\n",
            "                                   'third party clients that lists and '\n",
            "                                   'explains the details. These clients need '\n",
            "                                   'to be configured with your Access and '\n",
            "                                   'Secret Keys as described below. Access Key '\n",
            "                                   'and Secret Key Each user has one or more '\n",
            "                                   'pairs of Access Keys and Secret Keys that '\n",
            "                                   'are used as a credential to not expose '\n",
            "                                   'your password when using the Object Store. '\n",
            "                                   'These can be obtained by clicking on your '\n",
            "                                   'username in the upper right-hand corner. '\n",
            "                                   \"You'll use these to identify and \"\n",
            "                                   'authenticate yourself to the Object Store. '\n",
            "                                   'Please treat your Secret Key(s) the same '\n",
            "                                   'as a password and do not plaintext it over '\n",
            "                                   'email/otherwise or share it with any other '\n",
            "                                   'individuals. When using the umobj '\n",
            "                                   'utilities, you will need to make sure you '\n",
            "                                   'have added these credentials in your local '\n",
            "                                   'shell initialization files. There are '\n",
            "                                   'links to files that have these '\n",
            "                                   'automatically generated for the 3 most '\n",
            "                                   'popular UNIX shell families (bash/sh, '\n",
            "                                   'csh/tcsh, and zsh). Please make sure that '\n",
            "                                   'whatever file(s) you copy these '\n",
            "                                   'credentials into can not be read by other '\n",
            "                                   'users (eg. chmod 600 filename). Note: Each '\n",
            "                                   'Access Key and Secret Key are specific to '\n",
            "                                   'a particular object store, so if you are '\n",
            "                                   'accessing multiple object stores you may '\n",
            "                                   'want to write the credentials for each to '\n",
            "                                   'separate files and then source each file '\n",
            "                                   'when you want to use the associated object '\n",
            "                                   'store. Please contact staff if you have '\n",
            "                                   'any questions. LabGroups LabGroups allow a '\n",
            "                                   'group of users to share data while '\n",
            "                                   'avoiding the need for complex ACLs by '\n",
            "                                   'maintaining group ownership. Designated '\n",
            "                                   'LabGroup managers can grant granular '\n",
            "                                   'access (read, write, full control, '\n",
            "                                   'manager) to buckets owned by the LabGroup. '\n",
            "                                   'All objects owned by a LabGroup count '\n",
            "                                   'against the group quota. LabGroups can be '\n",
            "                                   'navigated using the menu with username in '\n",
            "                                   'the top right corner of the page. Note: '\n",
            "                                   'this will only appear if you are a member '\n",
            "                                   'of at least one LabGroup. At this point, '\n",
            "                                   'you can browse the Object Store as the '\n",
            "                                   'LabGroup and obtain your unique Access Key '\n",
            "                                   'and Secret Key pair using the instructions '\n",
            "                                   'above. To switch to another LabGroup or '\n",
            "                                   'back to your own buckets, click the menu '\n",
            "                                   'again and select another user or group. '\n",
            "                                   'Managing LabGroups LabGroups have many '\n",
            "                                   'different levels of membership: Managers, '\n",
            "                                   'FULL_CONTROL, READ/WRITE, and READ . '\n",
            "                                   'Managers can add or remove LabGroup '\n",
            "                                   'Members while every other access level '\n",
            "                                   'cannot. If you hold the Manager role in a '\n",
            "                                   'LabGroup, you can add and remove users '\n",
            "                                   'using the Manage LabGroups page, which is '\n",
            "                                   'available under the Manage menu at the top '\n",
            "                                   'of the page. After selecting a LabGroup, '\n",
            "                                   'you can add users by typing their username '\n",
            "                                   'into the search field and selecting a '\n",
            "                                   'membership role. Requesting a LabGroup To '\n",
            "                                   'request a LabGroup for your project, '\n",
            "                                   'please contact staff . Retrieved from \" '\n",
            "                                   'https://wiki.umiacs.umd.edu/umiacs/index.php?title=OBJ&oldid=11801 '\n",
            "                                   '\" Navigation menu Personal tools Log in '\n",
            "                                   'Namespaces Page Discussion English Views '\n",
            "                                   'Read View source View history More Search '\n",
            "                                   'Navigation Main Page Getting Started Core '\n",
            "                                   'Services Lab Facilities Placing Orders '\n",
            "                                   'Support Tools What links here Related '\n",
            "                                   'changes Special pages Printable version '\n",
            "                                   'Permanent link Page information This page '\n",
            "                                   'was last edited on 10 May 2024, at 16:03. '\n",
            "                                   'Privacy policy About UMIACS Disclaimers',\n",
            "                           'url': 'https://wiki.umiacs.umd.edu/umiacs/index.php/OBJ',\n",
            "                           'vector_id': 'https://wiki.umiacs.umd.edu/umiacs/index.php/OBJ'},\n",
            "              'score': 1.0,\n",
            "              'values': []}],\n",
            " 'namespace': 'umiacswiki-vector',\n",
            " 'usage': {'read_units': 6}}\n",
            "{'matches': [{'id': 'fee0560c-54d2-4d7f-820e-59b26654a26f',\n",
            "              'metadata': {'Header 2': 'University of MarylandInstitute for '\n",
            "                                       'Advanced Computer Studies',\n",
            "                           'text': 'Sign in to University of Maryland '\n",
            "                                   'Institute for Advanced Computer Studies '\n",
            "                                   'University of Maryland Institute for '\n",
            "                                   'Advanced Computer Studies UM IACS Sign in '\n",
            "                                   'to your account Username Password Web '\n",
            "                                   'Accessibility Acceptable Use Policy © '\n",
            "                                   'University of Maryland Institute for '\n",
            "                                   'Advanced Computer\\n'\n",
            "                                   '          Studies. All rights reserved.',\n",
            "                           'url': 'https://login.umiacs.umd.edu/auth/realms/UMIACS/protocol/openid-connect/auth?response_type=code&redirect_uri=https%3A%2F%2Fwiki.umiacs.umd.edu%2Fumiacs%2Findex.php%2FSpecial%3APluggableAuthLogin&client_id=wiki_umiacs_production&nonce=2756280c4a8d8744facd68c4fda1b0fb&state=f2c140a8ca2896d38ea8aeff7fd0b8d9&scope=openid+profile+email+openid',\n",
            "                           'vector_id': 'https://login.umiacs.umd.edu/auth/realms/UMIACS/protocol/openid-connect/auth?response_type=code&redirect_uri=https%3A%2F%2Fwiki.umiacs.umd.edu%2Fumiacs%2Findex.php%2FSpecial%3APluggableAuthLogin&client_id=wiki_umiacs_production&nonce=2756280c4a8d8744facd68c4fda1b0fb&state=f2c140a8ca2896d38ea8aeff7fd0b8d9&scope=openid+profile+email+openid'},\n",
            "              'score': 1.0,\n",
            "              'values': []}],\n",
            " 'namespace': 'umiacswiki-vector',\n",
            " 'usage': {'read_units': 6}}\n"
          ]
        }
      ],
      "source": [
        "index = pc.Index(index_name)\n",
        "\n",
        "for ids in index.list(namespace=namespace):\n",
        "    query = index.query(\n",
        "        id=ids[0],\n",
        "        namespace=namespace,\n",
        "        top_k=1,\n",
        "        include_values=False,\n",
        "        include_metadata=True\n",
        "    )\n",
        "    print(query)"
      ]
    },
    {
      "cell_type": "code",
      "execution_count": null,
      "metadata": {
        "id": "LUskaDZf3jBh"
      },
      "outputs": [],
      "source": [
        "pc.delete_index(index_name)"
      ]
    },
    {
      "cell_type": "markdown",
      "metadata": {
        "id": "J8-qtnAG3lKl"
      },
      "source": [
        "After you delete an index, you cannot use it again or recover it."
      ]
    }
  ],
  "metadata": {
    "colab": {
      "provenance": []
    },
    "kernelspec": {
      "display_name": "Python 3 (ipykernel)",
      "language": "python",
      "name": "python3"
    },
    "language_info": {
      "name": "python"
    }
  },
  "nbformat": 4,
  "nbformat_minor": 0
}